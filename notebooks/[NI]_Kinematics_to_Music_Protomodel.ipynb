{
  "cells": [
    {
      "cell_type": "markdown",
      "metadata": {
        "id": "view-in-github",
        "colab_type": "text"
      },
      "source": [
        "<a href=\"https://colab.research.google.com/github/dakilaledesma/272-iNat-Final/blob/main/notebooks/%5BNI%5D_Kinematics_to_Music_Protomodel.ipynb\" target=\"_parent\"><img src=\"https://colab.research.google.com/assets/colab-badge.svg\" alt=\"Open In Colab\"/></a>"
      ]
    },
    {
      "cell_type": "code",
      "source": [
        "import warnings\n",
        "warnings.filterwarnings('ignore')"
      ],
      "metadata": {
        "id": "XysEK55L30ix"
      },
      "execution_count": 1,
      "outputs": []
    },
    {
      "cell_type": "code",
      "execution_count": 2,
      "metadata": {
        "colab": {
          "base_uri": "https://localhost:8080/"
        },
        "id": "Uv8KgyGL-wtX",
        "outputId": "4505583d-8cc1-4717-ea48-a5615d9f31ae"
      },
      "outputs": [
        {
          "output_type": "stream",
          "name": "stdout",
          "text": [
            "  % Total    % Received % Xferd  Average Speed   Time    Time     Time  Current\n",
            "                                 Dload  Upload   Total   Spent    Left  Speed\n",
            "100  305M  100  305M    0     0  31.5M      0  0:00:09  0:00:09 --:--:-- 51.5M\n",
            "  % Total    % Received % Xferd  Average Speed   Time    Time     Time  Current\n",
            "                                 Dload  Upload   Total   Spent    Left  Speed\n",
            "100 90.6M  100 90.6M    0     0  11.4M      0  0:00:07  0:00:07 --:--:-- 21.2M\n",
            "  % Total    % Received % Xferd  Average Speed   Time    Time     Time  Current\n",
            "                                 Dload  Upload   Total   Spent    Left  Speed\n",
            "100  834M  100  834M    0     0  35.7M      0  0:00:23  0:00:23 --:--:-- 52.6M\n"
          ]
        }
      ],
      "source": [
        "! curl -L https://herbarium.ucht.cloud/s/AoZFbaKWofEfHiF/download --output motions.zip\n",
        "! curl -L https://herbarium.ucht.cloud/s/Cn55KNbEBqtrDCg/download --output mp3.zip\n",
        "! curl -L https://herbarium.ucht.cloud/s/MayD6rAGWoKmGw8/download --output keypoints3d.zip\n",
        "! unzip -q motions.zip\n",
        "! unzip -q keypoints3d.zip\n",
        "! unzip -q mp3.zip"
      ]
    },
    {
      "cell_type": "code",
      "source": [
        "audio_dict = {}\n",
        "motion_dict = {}"
      ],
      "metadata": {
        "id": "4IEfhm99BUSj"
      },
      "execution_count": 1,
      "outputs": []
    },
    {
      "cell_type": "code",
      "execution_count": 2,
      "metadata": {
        "id": "pYUyel4isa5S",
        "colab": {
          "base_uri": "https://localhost:8080/"
        },
        "outputId": "86d21f69-c1ec-4d2f-f73b-822a610e25ea"
      },
      "outputs": [
        {
          "output_type": "stream",
          "name": "stderr",
          "text": [
            "/usr/local/lib/python3.8/dist-packages/librosa/core/audio.py:165: UserWarning: PySoundFile failed. Trying audioread instead.\n",
            "  warnings.warn(\"PySoundFile failed. Trying audioread instead.\")\n",
            "/usr/local/lib/python3.8/dist-packages/librosa/core/audio.py:165: UserWarning: PySoundFile failed. Trying audioread instead.\n",
            "  warnings.warn(\"PySoundFile failed. Trying audioread instead.\")\n",
            "/usr/local/lib/python3.8/dist-packages/librosa/core/audio.py:165: UserWarning: PySoundFile failed. Trying audioread instead.\n",
            "  warnings.warn(\"PySoundFile failed. Trying audioread instead.\")\n",
            "/usr/local/lib/python3.8/dist-packages/librosa/core/audio.py:165: UserWarning: PySoundFile failed. Trying audioread instead.\n",
            "  warnings.warn(\"PySoundFile failed. Trying audioread instead.\")\n",
            "/usr/local/lib/python3.8/dist-packages/librosa/core/audio.py:165: UserWarning: PySoundFile failed. Trying audioread instead.\n",
            "  warnings.warn(\"PySoundFile failed. Trying audioread instead.\")\n",
            "/usr/local/lib/python3.8/dist-packages/librosa/core/audio.py:165: UserWarning: PySoundFile failed. Trying audioread instead.\n",
            "  warnings.warn(\"PySoundFile failed. Trying audioread instead.\")\n",
            "/usr/local/lib/python3.8/dist-packages/librosa/core/audio.py:165: UserWarning: PySoundFile failed. Trying audioread instead.\n",
            "  warnings.warn(\"PySoundFile failed. Trying audioread instead.\")\n",
            "/usr/local/lib/python3.8/dist-packages/librosa/core/audio.py:165: UserWarning: PySoundFile failed. Trying audioread instead.\n",
            "  warnings.warn(\"PySoundFile failed. Trying audioread instead.\")\n",
            "/usr/local/lib/python3.8/dist-packages/librosa/core/audio.py:165: UserWarning: PySoundFile failed. Trying audioread instead.\n",
            "  warnings.warn(\"PySoundFile failed. Trying audioread instead.\")\n",
            "/usr/local/lib/python3.8/dist-packages/librosa/core/audio.py:165: UserWarning: PySoundFile failed. Trying audioread instead.\n",
            "  warnings.warn(\"PySoundFile failed. Trying audioread instead.\")\n",
            "/usr/local/lib/python3.8/dist-packages/librosa/core/audio.py:165: UserWarning: PySoundFile failed. Trying audioread instead.\n",
            "  warnings.warn(\"PySoundFile failed. Trying audioread instead.\")\n",
            "/usr/local/lib/python3.8/dist-packages/librosa/core/audio.py:165: UserWarning: PySoundFile failed. Trying audioread instead.\n",
            "  warnings.warn(\"PySoundFile failed. Trying audioread instead.\")\n",
            "/usr/local/lib/python3.8/dist-packages/librosa/core/audio.py:165: UserWarning: PySoundFile failed. Trying audioread instead.\n",
            "  warnings.warn(\"PySoundFile failed. Trying audioread instead.\")\n",
            "/usr/local/lib/python3.8/dist-packages/librosa/core/audio.py:165: UserWarning: PySoundFile failed. Trying audioread instead.\n",
            "  warnings.warn(\"PySoundFile failed. Trying audioread instead.\")\n",
            "/usr/local/lib/python3.8/dist-packages/librosa/core/audio.py:165: UserWarning: PySoundFile failed. Trying audioread instead.\n",
            "  warnings.warn(\"PySoundFile failed. Trying audioread instead.\")\n",
            "/usr/local/lib/python3.8/dist-packages/librosa/core/audio.py:165: UserWarning: PySoundFile failed. Trying audioread instead.\n",
            "  warnings.warn(\"PySoundFile failed. Trying audioread instead.\")\n",
            "/usr/local/lib/python3.8/dist-packages/librosa/core/audio.py:165: UserWarning: PySoundFile failed. Trying audioread instead.\n",
            "  warnings.warn(\"PySoundFile failed. Trying audioread instead.\")\n",
            "/usr/local/lib/python3.8/dist-packages/librosa/core/audio.py:165: UserWarning: PySoundFile failed. Trying audioread instead.\n",
            "  warnings.warn(\"PySoundFile failed. Trying audioread instead.\")\n",
            "/usr/local/lib/python3.8/dist-packages/librosa/core/audio.py:165: UserWarning: PySoundFile failed. Trying audioread instead.\n",
            "  warnings.warn(\"PySoundFile failed. Trying audioread instead.\")\n",
            "/usr/local/lib/python3.8/dist-packages/librosa/core/audio.py:165: UserWarning: PySoundFile failed. Trying audioread instead.\n",
            "  warnings.warn(\"PySoundFile failed. Trying audioread instead.\")\n",
            "/usr/local/lib/python3.8/dist-packages/librosa/core/audio.py:165: UserWarning: PySoundFile failed. Trying audioread instead.\n",
            "  warnings.warn(\"PySoundFile failed. Trying audioread instead.\")\n",
            "/usr/local/lib/python3.8/dist-packages/librosa/core/audio.py:165: UserWarning: PySoundFile failed. Trying audioread instead.\n",
            "  warnings.warn(\"PySoundFile failed. Trying audioread instead.\")\n",
            "/usr/local/lib/python3.8/dist-packages/librosa/core/audio.py:165: UserWarning: PySoundFile failed. Trying audioread instead.\n",
            "  warnings.warn(\"PySoundFile failed. Trying audioread instead.\")\n",
            "/usr/local/lib/python3.8/dist-packages/librosa/core/audio.py:165: UserWarning: PySoundFile failed. Trying audioread instead.\n",
            "  warnings.warn(\"PySoundFile failed. Trying audioread instead.\")\n",
            "/usr/local/lib/python3.8/dist-packages/librosa/core/audio.py:165: UserWarning: PySoundFile failed. Trying audioread instead.\n",
            "  warnings.warn(\"PySoundFile failed. Trying audioread instead.\")\n",
            "/usr/local/lib/python3.8/dist-packages/librosa/core/audio.py:165: UserWarning: PySoundFile failed. Trying audioread instead.\n",
            "  warnings.warn(\"PySoundFile failed. Trying audioread instead.\")\n",
            "/usr/local/lib/python3.8/dist-packages/librosa/core/audio.py:165: UserWarning: PySoundFile failed. Trying audioread instead.\n",
            "  warnings.warn(\"PySoundFile failed. Trying audioread instead.\")\n",
            "/usr/local/lib/python3.8/dist-packages/librosa/core/audio.py:165: UserWarning: PySoundFile failed. Trying audioread instead.\n",
            "  warnings.warn(\"PySoundFile failed. Trying audioread instead.\")\n",
            "/usr/local/lib/python3.8/dist-packages/librosa/core/audio.py:165: UserWarning: PySoundFile failed. Trying audioread instead.\n",
            "  warnings.warn(\"PySoundFile failed. Trying audioread instead.\")\n",
            "/usr/local/lib/python3.8/dist-packages/librosa/core/audio.py:165: UserWarning: PySoundFile failed. Trying audioread instead.\n",
            "  warnings.warn(\"PySoundFile failed. Trying audioread instead.\")\n",
            "/usr/local/lib/python3.8/dist-packages/librosa/core/audio.py:165: UserWarning: PySoundFile failed. Trying audioread instead.\n",
            "  warnings.warn(\"PySoundFile failed. Trying audioread instead.\")\n",
            "/usr/local/lib/python3.8/dist-packages/librosa/core/audio.py:165: UserWarning: PySoundFile failed. Trying audioread instead.\n",
            "  warnings.warn(\"PySoundFile failed. Trying audioread instead.\")\n",
            "/usr/local/lib/python3.8/dist-packages/librosa/core/audio.py:165: UserWarning: PySoundFile failed. Trying audioread instead.\n",
            "  warnings.warn(\"PySoundFile failed. Trying audioread instead.\")\n",
            "/usr/local/lib/python3.8/dist-packages/librosa/core/audio.py:165: UserWarning: PySoundFile failed. Trying audioread instead.\n",
            "  warnings.warn(\"PySoundFile failed. Trying audioread instead.\")\n",
            "/usr/local/lib/python3.8/dist-packages/librosa/core/audio.py:165: UserWarning: PySoundFile failed. Trying audioread instead.\n",
            "  warnings.warn(\"PySoundFile failed. Trying audioread instead.\")\n",
            "/usr/local/lib/python3.8/dist-packages/librosa/core/audio.py:165: UserWarning: PySoundFile failed. Trying audioread instead.\n",
            "  warnings.warn(\"PySoundFile failed. Trying audioread instead.\")\n",
            "/usr/local/lib/python3.8/dist-packages/librosa/core/audio.py:165: UserWarning: PySoundFile failed. Trying audioread instead.\n",
            "  warnings.warn(\"PySoundFile failed. Trying audioread instead.\")\n",
            "/usr/local/lib/python3.8/dist-packages/librosa/core/audio.py:165: UserWarning: PySoundFile failed. Trying audioread instead.\n",
            "  warnings.warn(\"PySoundFile failed. Trying audioread instead.\")\n",
            "/usr/local/lib/python3.8/dist-packages/librosa/core/audio.py:165: UserWarning: PySoundFile failed. Trying audioread instead.\n",
            "  warnings.warn(\"PySoundFile failed. Trying audioread instead.\")\n",
            "/usr/local/lib/python3.8/dist-packages/librosa/core/audio.py:165: UserWarning: PySoundFile failed. Trying audioread instead.\n",
            "  warnings.warn(\"PySoundFile failed. Trying audioread instead.\")\n",
            "/usr/local/lib/python3.8/dist-packages/librosa/core/audio.py:165: UserWarning: PySoundFile failed. Trying audioread instead.\n",
            "  warnings.warn(\"PySoundFile failed. Trying audioread instead.\")\n",
            "/usr/local/lib/python3.8/dist-packages/librosa/core/audio.py:165: UserWarning: PySoundFile failed. Trying audioread instead.\n",
            "  warnings.warn(\"PySoundFile failed. Trying audioread instead.\")\n",
            "/usr/local/lib/python3.8/dist-packages/librosa/core/audio.py:165: UserWarning: PySoundFile failed. Trying audioread instead.\n",
            "  warnings.warn(\"PySoundFile failed. Trying audioread instead.\")\n",
            "/usr/local/lib/python3.8/dist-packages/librosa/core/audio.py:165: UserWarning: PySoundFile failed. Trying audioread instead.\n",
            "  warnings.warn(\"PySoundFile failed. Trying audioread instead.\")\n",
            "/usr/local/lib/python3.8/dist-packages/librosa/core/audio.py:165: UserWarning: PySoundFile failed. Trying audioread instead.\n",
            "  warnings.warn(\"PySoundFile failed. Trying audioread instead.\")\n",
            "/usr/local/lib/python3.8/dist-packages/librosa/core/audio.py:165: UserWarning: PySoundFile failed. Trying audioread instead.\n",
            "  warnings.warn(\"PySoundFile failed. Trying audioread instead.\")\n",
            "/usr/local/lib/python3.8/dist-packages/librosa/core/audio.py:165: UserWarning: PySoundFile failed. Trying audioread instead.\n",
            "  warnings.warn(\"PySoundFile failed. Trying audioread instead.\")\n",
            "/usr/local/lib/python3.8/dist-packages/librosa/core/audio.py:165: UserWarning: PySoundFile failed. Trying audioread instead.\n",
            "  warnings.warn(\"PySoundFile failed. Trying audioread instead.\")\n",
            "/usr/local/lib/python3.8/dist-packages/librosa/core/audio.py:165: UserWarning: PySoundFile failed. Trying audioread instead.\n",
            "  warnings.warn(\"PySoundFile failed. Trying audioread instead.\")\n",
            "/usr/local/lib/python3.8/dist-packages/librosa/core/audio.py:165: UserWarning: PySoundFile failed. Trying audioread instead.\n",
            "  warnings.warn(\"PySoundFile failed. Trying audioread instead.\")\n",
            "/usr/local/lib/python3.8/dist-packages/librosa/core/audio.py:165: UserWarning: PySoundFile failed. Trying audioread instead.\n",
            "  warnings.warn(\"PySoundFile failed. Trying audioread instead.\")\n",
            "/usr/local/lib/python3.8/dist-packages/librosa/core/audio.py:165: UserWarning: PySoundFile failed. Trying audioread instead.\n",
            "  warnings.warn(\"PySoundFile failed. Trying audioread instead.\")\n",
            "/usr/local/lib/python3.8/dist-packages/librosa/core/audio.py:165: UserWarning: PySoundFile failed. Trying audioread instead.\n",
            "  warnings.warn(\"PySoundFile failed. Trying audioread instead.\")\n",
            "/usr/local/lib/python3.8/dist-packages/librosa/core/audio.py:165: UserWarning: PySoundFile failed. Trying audioread instead.\n",
            "  warnings.warn(\"PySoundFile failed. Trying audioread instead.\")\n",
            "/usr/local/lib/python3.8/dist-packages/librosa/core/audio.py:165: UserWarning: PySoundFile failed. Trying audioread instead.\n",
            "  warnings.warn(\"PySoundFile failed. Trying audioread instead.\")\n",
            "/usr/local/lib/python3.8/dist-packages/librosa/core/audio.py:165: UserWarning: PySoundFile failed. Trying audioread instead.\n",
            "  warnings.warn(\"PySoundFile failed. Trying audioread instead.\")\n",
            "/usr/local/lib/python3.8/dist-packages/librosa/core/audio.py:165: UserWarning: PySoundFile failed. Trying audioread instead.\n",
            "  warnings.warn(\"PySoundFile failed. Trying audioread instead.\")\n",
            "/usr/local/lib/python3.8/dist-packages/librosa/core/audio.py:165: UserWarning: PySoundFile failed. Trying audioread instead.\n",
            "  warnings.warn(\"PySoundFile failed. Trying audioread instead.\")\n",
            "/usr/local/lib/python3.8/dist-packages/librosa/core/audio.py:165: UserWarning: PySoundFile failed. Trying audioread instead.\n",
            "  warnings.warn(\"PySoundFile failed. Trying audioread instead.\")\n",
            "/usr/local/lib/python3.8/dist-packages/librosa/core/audio.py:165: UserWarning: PySoundFile failed. Trying audioread instead.\n",
            "  warnings.warn(\"PySoundFile failed. Trying audioread instead.\")\n"
          ]
        }
      ],
      "source": [
        "# Thanks to https://stackoverflow.com/questions/69387104/how-to-convert-wav-audio-file-from-mel-spectrogram\n",
        "import librosa\n",
        "import os\n",
        "from glob import glob\n",
        "\n",
        "for aud in glob(\"mp3/*.mp3\"):\n",
        "  my_audio_as_np_array, my_sample_rate = librosa.load(aud)\n",
        "\n",
        "  spec = librosa.feature.melspectrogram(y=my_audio_as_np_array,\n",
        "                                          sr=my_sample_rate, \n",
        "                                              n_fft=2048, \n",
        "                                              hop_length=512, \n",
        "                                              win_length=None, \n",
        "                                              window='hann', \n",
        "                                              center=True, \n",
        "                                              pad_mode='reflect', \n",
        "                                              power=2.0,\n",
        "                                      n_mels=128)\n",
        "  spec = spec.T[:1272].T # Minimum is (128, 1273)\n",
        "  bn = os.path.basename(aud).replace(\".mp3\", '')\n",
        "  audio_dict[bn] = spec"
      ]
    },
    {
      "cell_type": "code",
      "source": [
        "import pickle\n",
        "import numpy as np\n",
        "import matplotlib.pyplot as plt\n",
        "\n",
        "for fn in glob(\"keypoints3d/*.pkl\"):\n",
        "  with open(fn, \"rb\") as motion:\n",
        "    m = pickle.load(motion)\n",
        "    bn = os.path.basename(fn).replace(\".pkl\", '')\n",
        "    motion_dict[bn] = m[\"keypoints3d\"][:426] # Minimum is (426, 17, 3), axis=0 is all different"
      ],
      "metadata": {
        "id": "fZn4k-IN-xps"
      },
      "execution_count": 3,
      "outputs": []
    },
    {
      "cell_type": "code",
      "source": [
        "print(motion_dict.keys())"
      ],
      "metadata": {
        "colab": {
          "base_uri": "https://localhost:8080/"
        },
        "id": "V2POifJQPjhf",
        "outputId": "9931646b-40df-4d92-9244-cba4341f8f2a"
      },
      "execution_count": 4,
      "outputs": [
        {
          "output_type": "stream",
          "name": "stdout",
          "text": [
            "dict_keys(['gJS_sFM_cAll_d03_mJS5_ch14', 'gMH_sBM_cAll_d24_mMH5_ch02', 'gLH_sBM_cAll_d16_mLH0_ch01', 'gHO_sBM_cAll_d19_mHO0_ch01', 'gMH_sFM_cAll_d22_mMH1_ch02', 'gPO_sBM_cAll_d10_mPO1_ch06', 'gLH_sBM_cAll_d17_mLH4_ch07', 'gJB_sBM_cAll_d08_mJB5_ch06', 'gMH_sBM_cAll_d24_mMH5_ch06', 'gHO_sBM_cAll_d21_mHO3_ch08', 'gLO_sBM_cAll_d15_mLO5_ch10', 'gJS_sBM_cAll_d02_mJS5_ch02', 'gBR_sBM_cAll_d04_mBR0_ch08', 'gWA_sBM_cAll_d26_mWA5_ch05', 'gHO_sBM_cAll_d19_mHO2_ch01', 'gHO_sBM_cAll_d21_mHO2_ch08', 'gJS_sBM_cAll_d01_mJS1_ch07', 'gKR_sBM_cAll_d29_mKR4_ch07', 'gLH_sBM_cAll_d18_mLH3_ch02', 'gLO_sBM_cAll_d15_mLO5_ch03', 'gLH_sBM_cAll_d18_mLH2_ch06', 'gBR_sBM_cAll_d05_mBR1_ch07', 'gLO_sBM_cAll_d14_mLO1_ch09', 'gHO_sBM_cAll_d21_mHO4_ch08', 'gHO_sBM_cAll_d21_mHO4_ch02', 'gWA_sBM_cAll_d25_mWA0_ch02', 'gKR_sBM_cAll_d30_mKR5_ch03', 'gMH_sBM_cAll_d22_mMH1_ch08', 'gMH_sBM_cAll_d23_mMH1_ch09', 'gPO_sBM_cAll_d10_mPO3_ch06', 'gKR_sBM_cAll_d30_mKR2_ch02', 'gPO_sBM_cAll_d10_mPO0_ch04', 'gKR_sBM_cAll_d29_mKR5_ch04', 'gJS_sBM_cAll_d02_mJS5_ch04', 'gHO_sBM_cAll_d21_mHO3_ch01', 'gWA_sBM_cAll_d26_mWA5_ch09', 'gHO_sFM_cAll_d20_mHO2_ch10', 'gJS_sFM_cAll_d02_mJS1_ch02', 'gHO_sBM_cAll_d20_mHO0_ch04', 'gWA_sBM_cAll_d26_mWA1_ch08', 'gHO_sBM_cAll_d19_mHO2_ch04', 'gJB_sBM_cAll_d07_mJB2_ch05', 'gMH_sBM_cAll_d22_mMH2_ch03', 'gKR_sBM_cAll_d29_mKR0_ch08', 'gKR_sBM_cAll_d29_mKR0_ch06', 'gKR_sBM_cAll_d28_mKR3_ch06', 'gMH_sBM_cAll_d24_mMH3_ch01', 'gWA_sBM_cAll_d26_mWA4_ch04', 'gJS_sBM_cAll_d03_mJS3_ch02', 'gBR_sFM_cAll_d06_mBR5_ch21', 'gJS_sBM_cAll_d03_mJS5_ch08', 'gLO_sBM_cAll_d13_mLO3_ch08', 'gLH_sBM_cAll_d17_mLH5_ch07', 'gMH_sBM_cAll_d23_mMH5_ch04', 'gJS_sFM_cAll_d02_mJS5_ch10', 'gBR_sBM_cAll_d06_mBR4_ch10', 'gJS_sBM_cAll_d02_mJS4_ch01', 'gJB_sBM_cAll_d09_mJB2_ch10', 'gPO_sBM_cAll_d11_mPO1_ch01', 'gWA_sBM_cAll_d26_mWA5_ch07', 'gJB_sFM_cAll_d08_mJB1_ch09', 'gKR_sBM_cAll_d28_mKR3_ch08', 'gLO_sBM_cAll_d15_mLO2_ch08', 'gHO_sBM_cAll_d20_mHO1_ch08', 'gJB_sFM_cAll_d07_mJB5_ch06', 'gKR_sBM_cAll_d29_mKR0_ch01', 'gLO_sBM_cAll_d13_mLO2_ch10', 'gMH_sBM_cAll_d23_mMH1_ch06', 'gKR_sFM_cAll_d28_mKR3_ch04', 'gBR_sBM_cAll_d06_mBR5_ch03', 'gMH_sFM_cAll_d22_mMH3_ch04', 'gMH_sBM_cAll_d24_mMH2_ch05', 'gLO_sBM_cAll_d14_mLO0_ch09', 'gLO_sBM_cAll_d15_mLO2_ch10', 'gWA_sBM_cAll_d26_mWA4_ch01', 'gJB_sBM_cAll_d08_mJB1_ch09', 'gJS_sBM_cAll_d03_mJS4_ch05', 'gBR_sBM_cAll_d05_mBR1_ch05', 'gWA_sBM_cAll_d25_mWA0_ch04', 'gKR_sFM_cAll_d29_mKR1_ch09', 'gPO_sFM_cAll_d12_mPO3_ch18', 'gPO_sBM_cAll_d12_mPO2_ch03', 'gLO_sBM_cAll_d13_mLO1_ch03', 'gWA_sFM_cAll_d26_mWA3_ch14', 'gKR_sBM_cAll_d30_mKR2_ch10', 'gJB_sBM_cAll_d09_mJB4_ch03', 'gMH_sBM_cAll_d23_mMH0_ch03', 'gPO_sBM_cAll_d10_mPO2_ch07', 'gLH_sBM_cAll_d16_mLH2_ch02', 'gWA_sBM_cAll_d25_mWA3_ch08', 'gLO_sBM_cAll_d13_mLO0_ch10', 'gBR_sBM_cAll_d04_mBR0_ch04', 'gLH_sBM_cAll_d16_mLH0_ch10', 'gJS_sBM_cAll_d02_mJS0_ch04', 'gMH_sBM_cAll_d24_mMH4_ch09', 'gBR_sFM_cAll_d06_mBR2_ch16', 'gPO_sFM_cAll_d11_mPO2_ch14', 'gLO_sFM_cAll_d15_mLO1_ch16', 'gMH_sBM_cAll_d22_mMH3_ch01', 'gPO_sBM_cAll_d11_mPO0_ch04', 'gLH_sBM_cAll_d17_mLH4_ch08', 'gBR_sBM_cAll_d06_mBR3_ch05', 'gBR_sBM_cAll_d04_mBR0_ch07', 'gJB_sBM_cAll_d08_mJB1_ch04', 'gHO_sBM_cAll_d21_mHO4_ch01', 'gHO_sFM_cAll_d20_mHO3_ch14', 'gPO_sBM_cAll_d12_mPO5_ch04', 'gHO_sBM_cAll_d19_mHO1_ch04', 'gKR_sBM_cAll_d29_mKR0_ch03', 'gJB_sBM_cAll_d09_mJB4_ch06', 'gJS_sBM_cAll_d01_mJS1_ch10', 'gLO_sBM_cAll_d15_mLO4_ch03', 'gLH_sBM_cAll_d18_mLH2_ch02', 'gKR_sBM_cAll_d29_mKR4_ch05', 'gBR_sBM_cAll_d05_mBR5_ch05', 'gMH_sBM_cAll_d23_mMH5_ch07', 'gMH_sBM_cAll_d22_mMH0_ch08', 'gPO_sBM_cAll_d10_mPO2_ch04', 'gHO_sFM_cAll_d20_mHO5_ch13', 'gWA_sBM_cAll_d27_mWA3_ch10', 'gBR_sBM_cAll_d06_mBR5_ch07', 'gLH_sBM_cAll_d18_mLH2_ch09', 'gJB_sBM_cAll_d09_mJB5_ch08', 'gHO_sBM_cAll_d19_mHO1_ch09', 'gPO_sBM_cAll_d12_mPO4_ch07', 'gKR_sFM_cAll_d29_mKR4_ch12', 'gHO_sBM_cAll_d20_mHO1_ch01', 'gLH_sFM_cAll_d18_mLH0_ch15', 'gHO_sFM_cAll_d19_mHO0_ch01', 'gBR_sBM_cAll_d04_mBR1_ch06', 'gMH_sBM_cAll_d22_mMH3_ch10', 'gPO_sBM_cAll_d10_mPO1_ch08', 'gMH_sBM_cAll_d24_mMH3_ch04', 'gLH_sBM_cAll_d18_mLH5_ch04', 'gJS_sBM_cAll_d02_mJS1_ch01', 'gJB_sBM_cAll_d09_mJB4_ch01', 'gWA_sBM_cAll_d25_mWA3_ch01', 'gBR_sBM_cAll_d06_mBR3_ch09', 'gKR_sBM_cAll_d30_mKR5_ch07', 'gJB_sBM_cAll_d07_mJB1_ch04', 'gKR_sBM_cAll_d28_mKR3_ch02', 'gPO_sBM_cAll_d11_mPO1_ch09', 'gLO_sFM_cAll_d15_mLO4_ch21', 'gJB_sBM_cAll_d08_mJB0_ch07', 'gLH_sBM_cAll_d16_mLH3_ch04', 'gBR_sFM_cAll_d05_mBR4_ch13', 'gBR_sBM_cAll_d05_mBR1_ch08', 'gJS_sBM_cAll_d01_mJS0_ch02', 'gMH_sFM_cAll_d24_mMH2_ch21', 'gJB_sBM_cAll_d09_mJB2_ch02', 'gLO_sBM_cAll_d14_mLO5_ch04', 'gMH_sFM_cAll_d23_mMH2_ch10', 'gBR_sFM_cAll_d05_mBR5_ch12', 'gLO_sBM_cAll_d15_mLO3_ch01', 'gLO_sBM_cAll_d14_mLO5_ch02', 'gJS_sBM_cAll_d01_mJS3_ch08', 'gKR_sBM_cAll_d29_mKR5_ch03', 'gLH_sBM_cAll_d17_mLH0_ch04', 'gWA_sFM_cAll_d26_mWA3_ch11', 'gHO_sBM_cAll_d21_mHO5_ch03', 'gJB_sBM_cAll_d07_mJB0_ch01', 'gWA_sFM_cAll_d26_mWA1_ch09', 'gJS_sFM_cAll_d03_mJS5_ch13', 'gLH_sBM_cAll_d16_mLH1_ch09', 'gJS_sBM_cAll_d01_mJS1_ch02', 'gBR_sBM_cAll_d04_mBR2_ch10', 'gMH_sBM_cAll_d22_mMH3_ch05', 'gLH_sBM_cAll_d17_mLH4_ch06', 'gMH_sBM_cAll_d23_mMH0_ch04', 'gBR_sBM_cAll_d04_mBR2_ch04', 'gMH_sBM_cAll_d23_mMH1_ch05', 'gWA_sFM_cAll_d25_mWA0_ch01', 'gMH_sBM_cAll_d23_mMH5_ch09', 'gWA_sBM_cAll_d26_mWA0_ch03', 'gMH_sBM_cAll_d22_mMH2_ch05', 'gPO_sBM_cAll_d10_mPO3_ch08', 'gHO_sBM_cAll_d21_mHO4_ch03', 'gHO_sBM_cAll_d20_mHO4_ch06', 'gHO_sBM_cAll_d21_mHO5_ch06', 'gBR_sBM_cAll_d06_mBR5_ch01', 'gLH_sBM_cAll_d17_mLH5_ch06', 'gKR_sBM_cAll_d29_mKR0_ch05', 'gLH_sBM_cAll_d16_mLH3_ch09', 'gPO_sBM_cAll_d10_mPO3_ch04', 'gKR_sBM_cAll_d28_mKR2_ch03', 'gJB_sBM_cAll_d08_mJB5_ch07', 'gWA_sBM_cAll_d27_mWA2_ch06', 'gLO_sBM_cAll_d14_mLO5_ch05', 'gPO_sBM_cAll_d12_mPO2_ch10', 'gPO_sBM_cAll_d12_mPO2_ch07', 'gJS_sBM_cAll_d01_mJS1_ch04', 'gLH_sBM_cAll_d18_mLH2_ch03', 'gKR_sBM_cAll_d28_mKR2_ch06', 'gMH_sBM_cAll_d23_mMH0_ch10', 'gBR_sFM_cAll_d04_mBR4_ch07', 'gKR_sBM_cAll_d28_mKR1_ch04', 'gLH_sBM_cAll_d16_mLH0_ch09', 'gKR_sBM_cAll_d28_mKR3_ch05', 'gLO_sBM_cAll_d13_mLO3_ch06', 'gLH_sBM_cAll_d17_mLH0_ch05', 'gLH_sBM_cAll_d17_mLH1_ch10', 'gKR_sBM_cAll_d29_mKR4_ch06', 'gHO_sBM_cAll_d21_mHO5_ch04', 'gMH_sBM_cAll_d23_mMH4_ch09', 'gJS_sBM_cAll_d03_mJS3_ch09', 'gLO_sBM_cAll_d14_mLO4_ch01', 'gHO_sBM_cAll_d20_mHO1_ch06', 'gBR_sBM_cAll_d04_mBR1_ch07', 'gHO_sBM_cAll_d19_mHO0_ch10', 'gWA_sBM_cAll_d26_mWA5_ch10', 'gJS_sBM_cAll_d02_mJS0_ch09', 'gBR_sFM_cAll_d05_mBR4_ch11', 'gMH_sFM_cAll_d22_mMH0_ch01', 'gPO_sBM_cAll_d12_mPO3_ch09', 'gLO_sBM_cAll_d15_mLO5_ch02', 'gLH_sBM_cAll_d17_mLH1_ch09', 'gPO_sBM_cAll_d11_mPO0_ch09', 'gHO_sBM_cAll_d19_mHO2_ch03', 'gLO_sBM_cAll_d15_mLO3_ch10', 'gWA_sBM_cAll_d25_mWA1_ch07', 'gHO_sBM_cAll_d19_mHO2_ch08', 'gJS_sBM_cAll_d02_mJS4_ch02', 'gHO_sBM_cAll_d20_mHO5_ch06', 'gHO_sBM_cAll_d21_mHO3_ch04', 'gWA_sBM_cAll_d25_mWA0_ch09', 'gHO_sFM_cAll_d19_mHO2_ch03', 'gPO_sFM_cAll_d12_mPO4_ch19', 'gWA_sBM_cAll_d25_mWA3_ch05', 'gLO_sBM_cAll_d15_mLO3_ch05', 'gBR_sBM_cAll_d06_mBR2_ch01', 'gJS_sBM_cAll_d02_mJS4_ch05', 'gLO_sBM_cAll_d15_mLO4_ch06', 'gPO_sBM_cAll_d12_mPO2_ch06', 'gJB_sFM_cAll_d07_mJB0_ch01', 'gJB_sBM_cAll_d07_mJB3_ch07', 'gLH_sBM_cAll_d16_mLH3_ch08', 'gBR_sBM_cAll_d04_mBR1_ch08', 'gLH_sBM_cAll_d18_mLH3_ch03', 'gLO_sBM_cAll_d13_mLO2_ch01', 'gBR_sBM_cAll_d06_mBR3_ch10', 'gKR_sFM_cAll_d29_mKR2_ch10', 'gWA_sFM_cAll_d25_mWA4_ch05', 'gJS_sBM_cAll_d01_mJS3_ch06', 'gMH_sBM_cAll_d22_mMH0_ch01', 'gKR_sBM_cAll_d28_mKR0_ch09', 'gJS_sBM_cAll_d01_mJS2_ch08', 'gMH_sFM_cAll_d24_mMH3_ch18', 'gJS_sBM_cAll_d02_mJS4_ch09', 'gJS_sFM_cAll_d01_mJS1_ch02', 'gLH_sBM_cAll_d17_mLH5_ch04', 'gMH_sBM_cAll_d23_mMH0_ch09', 'gJB_sFM_cAll_d07_mJB4_ch05', 'gJB_sBM_cAll_d07_mJB3_ch04', 'gJB_sBM_cAll_d08_mJB0_ch02', 'gKR_sBM_cAll_d28_mKR2_ch10', 'gPO_sBM_cAll_d10_mPO2_ch02', 'gWA_sBM_cAll_d27_mWA5_ch03', 'gLO_sBM_cAll_d14_mLO5_ch03', 'gBR_sBM_cAll_d04_mBR1_ch05', 'gMH_sBM_cAll_d23_mMH0_ch07', 'gMH_sBM_cAll_d22_mMH0_ch06', 'gKR_sBM_cAll_d29_mKR0_ch10', 'gKR_sBM_cAll_d30_mKR3_ch10', 'gWA_sFM_cAll_d27_mWA3_ch18', 'gKR_sBM_cAll_d30_mKR3_ch05', 'gJB_sBM_cAll_d07_mJB2_ch04', 'gPO_sBM_cAll_d10_mPO0_ch01', 'gKR_sBM_cAll_d30_mKR3_ch08', 'gJS_sBM_cAll_d01_mJS0_ch09', 'gWA_sBM_cAll_d27_mWA4_ch02', 'gWA_sBM_cAll_d27_mWA4_ch03', 'gBR_sBM_cAll_d04_mBR0_ch01', 'gJB_sBM_cAll_d08_mJB5_ch10', 'gKR_sBM_cAll_d29_mKR5_ch10', 'gHO_sBM_cAll_d20_mHO0_ch08', 'gMH_sFM_cAll_d22_mMH4_ch05', 'gKR_sBM_cAll_d29_mKR5_ch01', 'gBR_sBM_cAll_d05_mBR5_ch01', 'gPO_sBM_cAll_d12_mPO4_ch06', 'gBR_sBM_cAll_d05_mBR1_ch02', 'gLO_sBM_cAll_d13_mLO0_ch04', 'gHO_sBM_cAll_d21_mHO3_ch10', 'gWA_sFM_cAll_d27_mWA5_ch20', 'gJB_sBM_cAll_d09_mJB5_ch09', 'gWA_sBM_cAll_d26_mWA1_ch06', 'gKR_sBM_cAll_d30_mKR4_ch02', 'gHO_sBM_cAll_d19_mHO1_ch06', 'gJS_sBM_cAll_d03_mJS5_ch10', 'gMH_sBM_cAll_d23_mMH4_ch02', 'gPO_sBM_cAll_d10_mPO1_ch04', 'gHO_sFM_cAll_d21_mHO0_ch15', 'gLH_sBM_cAll_d17_mLH4_ch10', 'gWA_sBM_cAll_d26_mWA5_ch04', 'gHO_sBM_cAll_d20_mHO4_ch10', 'gLH_sBM_cAll_d16_mLH1_ch06', 'gKR_sBM_cAll_d30_mKR3_ch01', 'gKR_sBM_cAll_d30_mKR2_ch07', 'gHO_sBM_cAll_d21_mHO3_ch06', 'gPO_sBM_cAll_d10_mPO0_ch10', 'gPO_sBM_cAll_d12_mPO2_ch05', 'gPO_sBM_cAll_d11_mPO4_ch01', 'gWA_sFM_cAll_d25_mWA5_ch06', 'gPO_sFM_cAll_d12_mPO2_ch17', 'gJB_sBM_cAll_d08_mJB0_ch08', 'gLO_sBM_cAll_d15_mLO2_ch01', 'gMH_sBM_cAll_d22_mMH1_ch06', 'gLO_sBM_cAll_d15_mLO5_ch08', 'gKR_sBM_cAll_d28_mKR2_ch01', 'gJS_sBM_cAll_d03_mJS3_ch06', 'gLO_sFM_cAll_d13_mLO4_ch05', 'gPO_sFM_cAll_d11_mPO4_ch12', 'gMH_sBM_cAll_d24_mMH4_ch06', 'gJB_sBM_cAll_d08_mJB4_ch03', 'gMH_sBM_cAll_d24_mMH3_ch07', 'gJB_sFM_cAll_d09_mJB5_ch20', 'gJS_sFM_cAll_d03_mJS1_ch02', 'gHO_sBM_cAll_d20_mHO5_ch07', 'gJB_sBM_cAll_d07_mJB3_ch08', 'gKR_sBM_cAll_d30_mKR5_ch08', 'gJS_sBM_cAll_d03_mJS3_ch04', 'gWA_sBM_cAll_d25_mWA0_ch08', 'gHO_sBM_cAll_d21_mHO2_ch05', 'gHO_sBM_cAll_d21_mHO2_ch07', 'gLO_sBM_cAll_d13_mLO1_ch10', 'gBR_sBM_cAll_d06_mBR2_ch07', 'gJS_sBM_cAll_d01_mJS2_ch02', 'gWA_sBM_cAll_d27_mWA3_ch09', 'gJS_sBM_cAll_d02_mJS5_ch05', 'gJS_sBM_cAll_d01_mJS1_ch01', 'gJS_sBM_cAll_d01_mJS1_ch06', 'gHO_sBM_cAll_d19_mHO3_ch05', 'gHO_sBM_cAll_d20_mHO1_ch07', 'gJB_sBM_cAll_d08_mJB4_ch07', 'gPO_sBM_cAll_d12_mPO4_ch04', 'gWA_sBM_cAll_d26_mWA0_ch05', 'gMH_sBM_cAll_d22_mMH1_ch07', 'gMH_sBM_cAll_d22_mMH1_ch04', 'gHO_sBM_cAll_d21_mHO3_ch09', 'gPO_sBM_cAll_d12_mPO2_ch09', 'gMH_sBM_cAll_d23_mMH0_ch01', 'gHO_sBM_cAll_d21_mHO4_ch05', 'gBR_sBM_cAll_d06_mBR4_ch07', 'gLO_sFM_cAll_d14_mLO3_ch11', 'gJS_sBM_cAll_d02_mJS0_ch03', 'gBR_sFM_cAll_d05_mBR3_ch10', 'gHO_sBM_cAll_d21_mHO5_ch07', 'gMH_sBM_cAll_d24_mMH2_ch01', 'gKR_sBM_cAll_d28_mKR2_ch04', 'gLH_sFM_cAll_d16_mLH3_ch07', 'gJB_sBM_cAll_d07_mJB2_ch09', 'gWA_sBM_cAll_d26_mWA1_ch01', 'gWA_sBM_cAll_d25_mWA3_ch06', 'gMH_sBM_cAll_d23_mMH4_ch04', 'gBR_sBM_cAll_d05_mBR5_ch07', 'gHO_sBM_cAll_d20_mHO5_ch05', 'gJB_sBM_cAll_d08_mJB1_ch07', 'gPO_sBM_cAll_d10_mPO2_ch01', 'gHO_sBM_cAll_d19_mHO1_ch10', 'gMH_sBM_cAll_d22_mMH0_ch09', 'gLH_sBM_cAll_d18_mLH2_ch05', 'gJB_sBM_cAll_d07_mJB0_ch08', 'gBR_sBM_cAll_d05_mBR4_ch03', 'gMH_sBM_cAll_d23_mMH1_ch07', 'gPO_sBM_cAll_d11_mPO4_ch10', 'gBR_sFM_cAll_d05_mBR1_ch08', 'gKR_sBM_cAll_d28_mKR2_ch02', 'gHO_sBM_cAll_d21_mHO2_ch09', 'gKR_sBM_cAll_d28_mKR0_ch01', 'gPO_sBM_cAll_d11_mPO1_ch06', 'gLH_sBM_cAll_d18_mLH4_ch07', 'gBR_sBM_cAll_d06_mBR4_ch03', 'gMH_sBM_cAll_d22_mMH2_ch02', 'gJB_sBM_cAll_d09_mJB4_ch10', 'gLO_sBM_cAll_d14_mLO4_ch10', 'gKR_sBM_cAll_d28_mKR2_ch08', 'gPO_sBM_cAll_d11_mPO4_ch08', 'gJB_sBM_cAll_d07_mJB2_ch08', 'gWA_sBM_cAll_d27_mWA5_ch10', 'gLH_sBM_cAll_d16_mLH1_ch03', 'gBR_sBM_cAll_d05_mBR0_ch10', 'gLO_sBM_cAll_d13_mLO0_ch07', 'gBR_sBM_cAll_d06_mBR5_ch08', 'gBR_sBM_cAll_d06_mBR5_ch02', 'gPO_sFM_cAll_d12_mPO1_ch16', 'gLH_sBM_cAll_d16_mLH0_ch07', 'gKR_sBM_cAll_d29_mKR0_ch02', 'gKR_sBM_cAll_d29_mKR1_ch01', 'gJB_sBM_cAll_d08_mJB5_ch05', 'gHO_sBM_cAll_d19_mHO3_ch06', 'gPO_sBM_cAll_d10_mPO2_ch03', 'gBR_sBM_cAll_d06_mBR2_ch09', 'gWA_sBM_cAll_d27_mWA4_ch01', 'gLO_sBM_cAll_d13_mLO0_ch01', 'gHO_sBM_cAll_d20_mHO1_ch03', 'gBR_sFM_cAll_d04_mBR5_ch06', 'gKR_sBM_cAll_d28_mKR3_ch10', 'gLH_sBM_cAll_d16_mLH3_ch03', 'gWA_sBM_cAll_d27_mWA5_ch06', 'gLO_sBM_cAll_d14_mLO1_ch06', 'gLO_sBM_cAll_d13_mLO3_ch01', 'gLO_sFM_cAll_d14_mLO2_ch10', 'gJS_sBM_cAll_d02_mJS0_ch05', 'gLO_sBM_cAll_d13_mLO0_ch06', 'gLH_sBM_cAll_d16_mLH3_ch05', 'gJB_sBM_cAll_d09_mJB2_ch05', 'gBR_sBM_cAll_d06_mBR3_ch02', 'gJB_sBM_cAll_d08_mJB4_ch08', 'gPO_sBM_cAll_d11_mPO1_ch07', 'gWA_sBM_cAll_d26_mWA0_ch02', 'gJB_sBM_cAll_d07_mJB3_ch10', 'gJS_sFM_cAll_d01_mJS4_ch05', 'gLH_sBM_cAll_d17_mLH4_ch02', 'gJS_sBM_cAll_d03_mJS5_ch03', 'gMH_sBM_cAll_d23_mMH0_ch06', 'gPO_sBM_cAll_d12_mPO5_ch05', 'gJS_sBM_cAll_d03_mJS3_ch01', 'gPO_sBM_cAll_d11_mPO1_ch10', 'gHO_sBM_cAll_d20_mHO0_ch03', 'gPO_sBM_cAll_d12_mPO5_ch01', 'gBR_sBM_cAll_d05_mBR5_ch08', 'gJS_sBM_cAll_d02_mJS4_ch06', 'gKR_sBM_cAll_d28_mKR2_ch05', 'gJS_sBM_cAll_d02_mJS0_ch02', 'gWA_sBM_cAll_d25_mWA0_ch07', 'gJS_sBM_cAll_d02_mJS5_ch08', 'gLH_sBM_cAll_d17_mLH4_ch05', 'gWA_sBM_cAll_d26_mWA0_ch07', 'gJS_sBM_cAll_d03_mJS4_ch04', 'gBR_sBM_cAll_d05_mBR0_ch04', 'gWA_sBM_cAll_d27_mWA5_ch04', 'gLH_sBM_cAll_d18_mLH5_ch06', 'gLO_sFM_cAll_d15_mLO5_ch20', 'gPO_sBM_cAll_d11_mPO4_ch04', 'gHO_sBM_cAll_d20_mHO0_ch01', 'gJB_sBM_cAll_d09_mJB3_ch04', 'gJS_sBM_cAll_d02_mJS4_ch10', 'gBR_sFM_cAll_d06_mBR5_ch19', 'gJS_sFM_cAll_d02_mJS2_ch03', 'gKR_sBM_cAll_d29_mKR1_ch10', 'gLH_sBM_cAll_d18_mLH5_ch03', 'gKR_sBM_cAll_d30_mKR5_ch05', 'gLH_sBM_cAll_d18_mLH2_ch08', 'gPO_sBM_cAll_d11_mPO1_ch08', 'gJB_sBM_cAll_d08_mJB1_ch02', 'gKR_sBM_cAll_d30_mKR2_ch05', 'gBR_sFM_cAll_d04_mBR3_ch04', 'gLH_sBM_cAll_d18_mLH4_ch04', 'gMH_sBM_cAll_d23_mMH4_ch10', 'gMH_sBM_cAll_d24_mMH5_ch09', 'gPO_sBM_cAll_d11_mPO1_ch02', 'gMH_sBM_cAll_d22_mMH3_ch04', 'gMH_sBM_cAll_d24_mMH2_ch06', 'gHO_sBM_cAll_d19_mHO0_ch09', 'gLO_sBM_cAll_d14_mLO1_ch08', 'gLH_sBM_cAll_d17_mLH5_ch08', 'gHO_sBM_cAll_d21_mHO3_ch05', 'gJB_sBM_cAll_d08_mJB5_ch03', 'gKR_sBM_cAll_d29_mKR0_ch09', 'gMH_sBM_cAll_d22_mMH3_ch06', 'gBR_sBM_cAll_d06_mBR2_ch08', 'gLH_sFM_cAll_d16_mLH1_ch02', 'gLH_sBM_cAll_d18_mLH5_ch01', 'gBR_sBM_cAll_d05_mBR5_ch10', 'gBR_sFM_cAll_d06_mBR1_ch15', 'gWA_sBM_cAll_d27_mWA2_ch09', 'gWA_sBM_cAll_d26_mWA0_ch09', 'gJB_sFM_cAll_d09_mJB1_ch21', 'gJS_sBM_cAll_d03_mJS2_ch07', 'gLH_sFM_cAll_d18_mLH1_ch16', 'gLH_sBM_cAll_d18_mLH4_ch03', 'gBR_sBM_cAll_d04_mBR0_ch09', 'gJB_sBM_cAll_d08_mJB0_ch01', 'gJB_sBM_cAll_d07_mJB3_ch02', 'gHO_sFM_cAll_d19_mHO5_ch06', 'gKR_sBM_cAll_d28_mKR1_ch03', 'gKR_sFM_cAll_d30_mKR4_ch19', 'gLO_sBM_cAll_d14_mLO4_ch07', 'gWA_sFM_cAll_d27_mWA4_ch19', 'gJS_sFM_cAll_d02_mJS1_ch11', 'gLO_sBM_cAll_d14_mLO4_ch02', 'gMH_sBM_cAll_d24_mMH5_ch01', 'gMH_sBM_cAll_d22_mMH3_ch09', 'gBR_sBM_cAll_d06_mBR5_ch09', 'gJS_sFM_cAll_d02_mJS0_ch08', 'gMH_sFM_cAll_d23_mMH5_ch13', 'gLO_sBM_cAll_d14_mLO1_ch01', 'gLH_sBM_cAll_d16_mLH3_ch02', 'gLH_sBM_cAll_d16_mLH2_ch10', 'gLO_sBM_cAll_d13_mLO2_ch05', 'gJS_sBM_cAll_d01_mJS3_ch02', 'gBR_sBM_cAll_d06_mBR2_ch05', 'gHO_sBM_cAll_d21_mHO2_ch03', 'gHO_sBM_cAll_d20_mHO4_ch07', 'gLH_sBM_cAll_d16_mLH2_ch01', 'gLH_sBM_cAll_d16_mLH1_ch10', 'gJS_sBM_cAll_d02_mJS4_ch04', 'gHO_sFM_cAll_d21_mHO1_ch16', 'gLO_sBM_cAll_d14_mLO5_ch10', 'gLO_sBM_cAll_d13_mLO1_ch05', 'gMH_sBM_cAll_d24_mMH2_ch09', 'gPO_sFM_cAll_d11_mPO1_ch09', 'gLH_sBM_cAll_d16_mLH1_ch04', 'gKR_sBM_cAll_d30_mKR3_ch02', 'gHO_sBM_cAll_d21_mHO4_ch06', 'gLH_sFM_cAll_d16_mLH5_ch06', 'gJS_sBM_cAll_d02_mJS4_ch07', 'gPO_sBM_cAll_d10_mPO3_ch09', 'gJS_sBM_cAll_d03_mJS5_ch05', 'gWA_sBM_cAll_d25_mWA2_ch07', 'gJB_sBM_cAll_d07_mJB0_ch10', 'gHO_sBM_cAll_d19_mHO3_ch03', 'gJS_sBM_cAll_d03_mJS3_ch05', 'gMH_sBM_cAll_d23_mMH1_ch08', 'gPO_sBM_cAll_d10_mPO3_ch10', 'gPO_sBM_cAll_d11_mPO5_ch09', 'gHO_sBM_cAll_d19_mHO0_ch08', 'gMH_sBM_cAll_d23_mMH5_ch05', 'gLO_sBM_cAll_d15_mLO4_ch04', 'gBR_sBM_cAll_d04_mBR1_ch10', 'gWA_sBM_cAll_d26_mWA0_ch08', 'gLO_sBM_cAll_d13_mLO2_ch03', 'gHO_sFM_cAll_d20_mHO1_ch09', 'gLO_sBM_cAll_d15_mLO3_ch06', 'gKR_sBM_cAll_d29_mKR5_ch07', 'gLH_sFM_cAll_d18_mLH4_ch19', 'gJB_sBM_cAll_d09_mJB4_ch07', 'gHO_sBM_cAll_d20_mHO5_ch02', 'gLO_sBM_cAll_d15_mLO5_ch04', 'gLH_sBM_cAll_d18_mLH4_ch08', 'gMH_sBM_cAll_d22_mMH2_ch07', 'gLO_sBM_cAll_d15_mLO3_ch04', 'gWA_sBM_cAll_d26_mWA4_ch08', 'gWA_sBM_cAll_d26_mWA4_ch07', 'gPO_sBM_cAll_d12_mPO3_ch02', 'gPO_sBM_cAll_d11_mPO4_ch07', 'gJB_sBM_cAll_d09_mJB3_ch03', 'gHO_sBM_cAll_d19_mHO2_ch05', 'gWA_sBM_cAll_d25_mWA3_ch04', 'gJS_sBM_cAll_d03_mJS5_ch09', 'gPO_sBM_cAll_d11_mPO0_ch10', 'gBR_sBM_cAll_d04_mBR2_ch08', 'gJB_sBM_cAll_d08_mJB1_ch10', 'gMH_sBM_cAll_d24_mMH4_ch03', 'gLO_sBM_cAll_d14_mLO0_ch08', 'gBR_sBM_cAll_d05_mBR4_ch01', 'gJS_sBM_cAll_d02_mJS5_ch01', 'gBR_sBM_cAll_d04_mBR3_ch04', 'gBR_sFM_cAll_d06_mBR4_ch18', 'gLO_sBM_cAll_d15_mLO5_ch07', 'gKR_sBM_cAll_d29_mKR5_ch08', 'gJB_sBM_cAll_d09_mJB3_ch07', 'gPO_sFM_cAll_d10_mPO3_ch07', 'gHO_sBM_cAll_d20_mHO5_ch01', 'gLO_sBM_cAll_d14_mLO0_ch05', 'gHO_sBM_cAll_d21_mHO3_ch07', 'gWA_sBM_cAll_d27_mWA5_ch02', 'gMH_sBM_cAll_d24_mMH4_ch02', 'gJS_sBM_cAll_d03_mJS2_ch04', 'gLH_sBM_cAll_d17_mLH1_ch06', 'gLO_sFM_cAll_d13_mLO0_ch01', 'gWA_sBM_cAll_d25_mWA0_ch03', 'gPO_sBM_cAll_d10_mPO2_ch06', 'gWA_sBM_cAll_d25_mWA3_ch10', 'gWA_sBM_cAll_d27_mWA3_ch03', 'gPO_sBM_cAll_d10_mPO1_ch02', 'gMH_sBM_cAll_d23_mMH0_ch05', 'gMH_sBM_cAll_d22_mMH0_ch10', 'gKR_sBM_cAll_d29_mKR5_ch02', 'gMH_sBM_cAll_d23_mMH4_ch08', 'gWA_sBM_cAll_d27_mWA5_ch07', 'gJB_sBM_cAll_d09_mJB3_ch10', 'gLO_sBM_cAll_d15_mLO2_ch05', 'gWA_sBM_cAll_d27_mWA2_ch02', 'gLO_sBM_cAll_d14_mLO1_ch10', 'gWA_sFM_cAll_d26_mWA5_ch13', 'gPO_sBM_cAll_d11_mPO0_ch03', 'gPO_sBM_cAll_d10_mPO3_ch02', 'gLO_sBM_cAll_d13_mLO3_ch05', 'gKR_sFM_cAll_d29_mKR0_ch08', 'gMH_sBM_cAll_d22_mMH2_ch04', 'gHO_sFM_cAll_d20_mHO0_ch08', 'gWA_sBM_cAll_d25_mWA1_ch02', 'gPO_sBM_cAll_d11_mPO1_ch05', 'gJB_sFM_cAll_d09_mJB0_ch15', 'gWA_sBM_cAll_d27_mWA2_ch10', 'gLO_sBM_cAll_d14_mLO1_ch02', 'gJB_sFM_cAll_d07_mJB1_ch02', 'gLO_sBM_cAll_d14_mLO0_ch03', 'gBR_sBM_cAll_d05_mBR4_ch07', 'gLO_sBM_cAll_d13_mLO1_ch09', 'gPO_sBM_cAll_d12_mPO2_ch02', 'gLO_sBM_cAll_d13_mLO3_ch04', 'gLH_sFM_cAll_d18_mLH0_ch21', 'gJB_sBM_cAll_d07_mJB0_ch09', 'gKR_sFM_cAll_d29_mKR5_ch14', 'gPO_sBM_cAll_d11_mPO5_ch04', 'gJB_sBM_cAll_d09_mJB2_ch09', 'gBR_sBM_cAll_d05_mBR0_ch09', 'gHO_sBM_cAll_d20_mHO1_ch10', 'gPO_sBM_cAll_d10_mPO2_ch09', 'gMH_sBM_cAll_d24_mMH5_ch08', 'gBR_sBM_cAll_d04_mBR3_ch07', 'gJB_sBM_cAll_d08_mJB4_ch04', 'gJB_sBM_cAll_d07_mJB1_ch07', 'gBR_sBM_cAll_d06_mBR3_ch04', 'gMH_sFM_cAll_d23_mMH0_ch14', 'gJS_sBM_cAll_d03_mJS5_ch07', 'gLH_sFM_cAll_d17_mLH2_ch10', 'gJS_sBM_cAll_d03_mJS4_ch02', 'gWA_sBM_cAll_d25_mWA2_ch03', 'gLH_sFM_cAll_d18_mLH5_ch20', 'gBR_sBM_cAll_d05_mBR0_ch08', 'gJB_sBM_cAll_d07_mJB2_ch02', 'gBR_sFM_cAll_d05_mBR5_ch14', 'gJB_sBM_cAll_d07_mJB3_ch03', 'gLO_sFM_cAll_d14_mLO0_ch08', 'gLH_sFM_cAll_d17_mLH5_ch13', 'gWA_sBM_cAll_d27_mWA4_ch10', 'gWA_sBM_cAll_d25_mWA2_ch08', 'gLH_sBM_cAll_d16_mLH3_ch10', 'gHO_sBM_cAll_d19_mHO2_ch10', 'gMH_sBM_cAll_d24_mMH3_ch10', 'gHO_sBM_cAll_d20_mHO4_ch01', 'gLO_sBM_cAll_d14_mLO5_ch08', 'gLO_sBM_cAll_d15_mLO3_ch08', 'gMH_sFM_cAll_d22_mMH2_ch03', 'gPO_sBM_cAll_d10_mPO1_ch07', 'gMH_sBM_cAll_d23_mMH1_ch10', 'gLO_sBM_cAll_d15_mLO2_ch07', 'gJS_sBM_cAll_d02_mJS1_ch08', 'gJB_sBM_cAll_d09_mJB5_ch02', 'gKR_sBM_cAll_d28_mKR0_ch06', 'gBR_sBM_cAll_d05_mBR4_ch10', 'gWA_sFM_cAll_d27_mWA2_ch17', 'gBR_sBM_cAll_d05_mBR0_ch07', 'gLO_sBM_cAll_d13_mLO0_ch03', 'gBR_sBM_cAll_d04_mBR1_ch01', 'gBR_sBM_cAll_d04_mBR3_ch03', 'gJS_sBM_cAll_d01_mJS0_ch06', 'gLH_sBM_cAll_d16_mLH1_ch01', 'gWA_sBM_cAll_d25_mWA0_ch06', 'gWA_sBM_cAll_d27_mWA5_ch05', 'gJB_sBM_cAll_d09_mJB3_ch01', 'gJS_sBM_cAll_d01_mJS3_ch05', 'gWA_sBM_cAll_d25_mWA2_ch02', 'gLO_sBM_cAll_d15_mLO4_ch02', 'gLO_sBM_cAll_d14_mLO5_ch07', 'gJB_sBM_cAll_d08_mJB1_ch03', 'gMH_sBM_cAll_d23_mMH0_ch02', 'gPO_sFM_cAll_d10_mPO0_ch01', 'gKR_sBM_cAll_d30_mKR2_ch01', 'gLO_sBM_cAll_d15_mLO4_ch08', 'gPO_sBM_cAll_d12_mPO4_ch05', 'gPO_sBM_cAll_d11_mPO1_ch03', 'gJB_sFM_cAll_d07_mJB3_ch07', 'gJS_sBM_cAll_d02_mJS1_ch02', 'gHO_sBM_cAll_d20_mHO4_ch02', 'gKR_sBM_cAll_d29_mKR1_ch04', 'gJB_sBM_cAll_d07_mJB0_ch02', 'gJB_sFM_cAll_d09_mJB3_ch18', 'gWA_sBM_cAll_d27_mWA2_ch08', 'gMH_sBM_cAll_d24_mMH2_ch10', 'gLH_sBM_cAll_d17_mLH1_ch01', 'gJS_sBM_cAll_d03_mJS3_ch08', 'gLH_sBM_cAll_d18_mLH2_ch07', 'gJB_sBM_cAll_d08_mJB4_ch06', 'gMH_sBM_cAll_d24_mMH3_ch06', 'gHO_sBM_cAll_d19_mHO0_ch02', 'gJB_sBM_cAll_d08_mJB5_ch01', 'gPO_sBM_cAll_d10_mPO2_ch08', 'gLH_sBM_cAll_d17_mLH5_ch05', 'gPO_sBM_cAll_d11_mPO4_ch03', 'gJB_sBM_cAll_d09_mJB4_ch04', 'gHO_sBM_cAll_d20_mHO0_ch02', 'gJS_sBM_cAll_d01_mJS2_ch07', 'gBR_sBM_cAll_d05_mBR1_ch04', 'gBR_sBM_cAll_d06_mBR3_ch03', 'gMH_sBM_cAll_d23_mMH5_ch06', 'gLO_sBM_cAll_d14_mLO4_ch08', 'gJS_sBM_cAll_d01_mJS0_ch07', 'gJB_sBM_cAll_d07_mJB1_ch09', 'gJB_sBM_cAll_d09_mJB5_ch03', 'gKR_sBM_cAll_d30_mKR4_ch06', 'gWA_sBM_cAll_d26_mWA1_ch09', 'gKR_sBM_cAll_d28_mKR2_ch09', 'gKR_sBM_cAll_d29_mKR4_ch04', 'gJS_sBM_cAll_d03_mJS2_ch03', 'gHO_sBM_cAll_d21_mHO2_ch01', 'gLH_sFM_cAll_d17_mLH1_ch09', 'gPO_sBM_cAll_d11_mPO0_ch02', 'gLO_sBM_cAll_d15_mLO4_ch10', 'gHO_sBM_cAll_d21_mHO5_ch09', 'gJB_sBM_cAll_d08_mJB5_ch08', 'gPO_sBM_cAll_d12_mPO4_ch10', 'gJS_sBM_cAll_d01_mJS3_ch10', 'gWA_sFM_cAll_d25_mWA2_ch03', 'gPO_sBM_cAll_d12_mPO3_ch03', 'gWA_sBM_cAll_d26_mWA4_ch03', 'gHO_sBM_cAll_d20_mHO1_ch02', 'gWA_sBM_cAll_d27_mWA4_ch05', 'gLH_sBM_cAll_d18_mLH2_ch10', 'gPO_sFM_cAll_d12_mPO5_ch21', 'gLH_sBM_cAll_d16_mLH0_ch04', 'gWA_sBM_cAll_d27_mWA4_ch06', 'gKR_sFM_cAll_d29_mKR3_ch11', 'gLO_sBM_cAll_d15_mLO3_ch07', 'gWA_sBM_cAll_d27_mWA5_ch08', 'gBR_sFM_cAll_d06_mBR4_ch20', 'gLH_sBM_cAll_d18_mLH5_ch10', 'gLH_sBM_cAll_d16_mLH1_ch08', 'gBR_sBM_cAll_d04_mBR0_ch10', 'gPO_sFM_cAll_d12_mPO5_ch20', 'gJB_sBM_cAll_d08_mJB4_ch05', 'gJS_sBM_cAll_d03_mJS4_ch07', 'gLO_sBM_cAll_d15_mLO4_ch01', 'gBR_sBM_cAll_d05_mBR0_ch05', 'gHO_sBM_cAll_d21_mHO2_ch06', 'gWA_sBM_cAll_d26_mWA4_ch02', 'gLO_sBM_cAll_d15_mLO3_ch02', 'gLH_sBM_cAll_d17_mLH0_ch09', 'gBR_sBM_cAll_d04_mBR1_ch03', 'gKR_sBM_cAll_d29_mKR4_ch01', 'gHO_sBM_cAll_d20_mHO1_ch05', 'gPO_sBM_cAll_d12_mPO4_ch01', 'gKR_sBM_cAll_d29_mKR1_ch02', 'gHO_sBM_cAll_d21_mHO5_ch01', 'gLO_sFM_cAll_d14_mLO5_ch13', 'gJS_sBM_cAll_d01_mJS2_ch10', 'gJB_sBM_cAll_d08_mJB4_ch10', 'gJB_sFM_cAll_d08_mJB5_ch14', 'gPO_sBM_cAll_d10_mPO3_ch01', 'gJB_sBM_cAll_d09_mJB2_ch07', 'gWA_sBM_cAll_d27_mWA4_ch04', 'gJS_sBM_cAll_d03_mJS4_ch09', 'gKR_sBM_cAll_d29_mKR4_ch10', 'gJB_sFM_cAll_d08_mJB0_ch08', 'gMH_sBM_cAll_d24_mMH4_ch05', 'gPO_sBM_cAll_d10_mPO0_ch05', 'gLH_sBM_cAll_d16_mLH1_ch05', 'gMH_sBM_cAll_d24_mMH2_ch02', 'gMH_sFM_cAll_d24_mMH4_ch19', 'gLO_sFM_cAll_d14_mLO5_ch14', 'gJS_sFM_cAll_d01_mJS0_ch01', 'gMH_sBM_cAll_d23_mMH5_ch02', 'gLO_sFM_cAll_d13_mLO3_ch04', 'gMH_sBM_cAll_d22_mMH2_ch08', 'gWA_sBM_cAll_d26_mWA1_ch03', 'gMH_sBM_cAll_d23_mMH5_ch10', 'gJS_sBM_cAll_d01_mJS2_ch04', 'gBR_sBM_cAll_d05_mBR5_ch09', 'gKR_sBM_cAll_d30_mKR5_ch02', 'gJB_sBM_cAll_d08_mJB5_ch04', 'gPO_sBM_cAll_d11_mPO5_ch03', 'gLH_sBM_cAll_d18_mLH3_ch09', 'gPO_sBM_cAll_d12_mPO2_ch08', 'gPO_sBM_cAll_d12_mPO3_ch08', 'gLO_sBM_cAll_d13_mLO3_ch09', 'gLH_sFM_cAll_d16_mLH4_ch05', 'gLH_sBM_cAll_d18_mLH3_ch05', 'gHO_sBM_cAll_d19_mHO1_ch03', 'gMH_sBM_cAll_d22_mMH3_ch02', 'gMH_sBM_cAll_d23_mMH1_ch03', 'gKR_sBM_cAll_d28_mKR0_ch02', 'gWA_sBM_cAll_d27_mWA2_ch07', 'gKR_sBM_cAll_d30_mKR3_ch03', 'gHO_sBM_cAll_d19_mHO3_ch07', 'gKR_sFM_cAll_d30_mKR3_ch18', 'gKR_sBM_cAll_d29_mKR5_ch05', 'gJS_sBM_cAll_d03_mJS2_ch10', 'gWA_sFM_cAll_d27_mWA1_ch16', 'gJB_sBM_cAll_d07_mJB1_ch08', 'gBR_sBM_cAll_d04_mBR3_ch06', 'gBR_sFM_cAll_d05_mBR2_ch09', 'gWA_sBM_cAll_d25_mWA0_ch01', 'gHO_sBM_cAll_d19_mHO0_ch07', 'gKR_sBM_cAll_d29_mKR4_ch03', 'gJS_sBM_cAll_d01_mJS3_ch01', 'gBR_sBM_cAll_d06_mBR5_ch06', 'gJB_sBM_cAll_d07_mJB2_ch03', 'gLH_sBM_cAll_d17_mLH4_ch03', 'gKR_sBM_cAll_d30_mKR4_ch07', 'gBR_sBM_cAll_d05_mBR0_ch06', 'gJS_sBM_cAll_d01_mJS0_ch04', 'gWA_sBM_cAll_d25_mWA1_ch05', 'gWA_sBM_cAll_d25_mWA1_ch01', 'gPO_sBM_cAll_d11_mPO4_ch09', 'gLH_sFM_cAll_d16_mLH0_ch01', 'gMH_sFM_cAll_d24_mMH5_ch20', 'gJS_sBM_cAll_d02_mJS1_ch03', 'gPO_sBM_cAll_d12_mPO2_ch01', 'gHO_sBM_cAll_d21_mHO4_ch09', 'gJB_sFM_cAll_d08_mJB2_ch10', 'gWA_sBM_cAll_d26_mWA5_ch02', 'gLO_sFM_cAll_d13_mLO5_ch06', 'gWA_sFM_cAll_d26_mWA4_ch12', 'gHO_sBM_cAll_d20_mHO5_ch08', 'gWA_sBM_cAll_d27_mWA4_ch08', 'gWA_sBM_cAll_d25_mWA1_ch09', 'gMH_sBM_cAll_d22_mMH0_ch03', 'gLH_sBM_cAll_d18_mLH2_ch04', 'gJB_sBM_cAll_d09_mJB4_ch09', 'gKR_sBM_cAll_d29_mKR5_ch09', 'gJS_sBM_cAll_d01_mJS3_ch09', 'gJS_sBM_cAll_d03_mJS2_ch06', 'gBR_sBM_cAll_d05_mBR1_ch10', 'gLO_sBM_cAll_d14_mLO1_ch07', 'gLH_sBM_cAll_d17_mLH5_ch09', 'gWA_sBM_cAll_d26_mWA1_ch04', 'gHO_sBM_cAll_d21_mHO5_ch05', 'gLH_sBM_cAll_d18_mLH5_ch05', 'gMH_sBM_cAll_d24_mMH3_ch09', 'gHO_sBM_cAll_d20_mHO0_ch05', 'gHO_sBM_cAll_d20_mHO1_ch04', 'gJS_sBM_cAll_d03_mJS4_ch01', 'gKR_sBM_cAll_d28_mKR1_ch05', 'gKR_sBM_cAll_d30_mKR2_ch09', 'gMH_sBM_cAll_d23_mMH5_ch01', 'gKR_sBM_cAll_d30_mKR3_ch06', 'gJB_sBM_cAll_d08_mJB0_ch10', 'gJB_sBM_cAll_d07_mJB1_ch06', 'gPO_sBM_cAll_d12_mPO3_ch04', 'gMH_sBM_cAll_d22_mMH2_ch09', 'gJB_sBM_cAll_d08_mJB4_ch09', 'gJB_sFM_cAll_d08_mJB4_ch12', 'gBR_sBM_cAll_d05_mBR0_ch02', 'gJB_sBM_cAll_d08_mJB1_ch05', 'gJB_sBM_cAll_d07_mJB0_ch03', 'gHO_sBM_cAll_d21_mHO5_ch08', 'gWA_sBM_cAll_d25_mWA2_ch01', 'gHO_sBM_cAll_d19_mHO0_ch04', 'gKR_sBM_cAll_d30_mKR2_ch08', 'gBR_sBM_cAll_d06_mBR4_ch09', 'gLO_sBM_cAll_d13_mLO1_ch01', 'gHO_sBM_cAll_d21_mHO2_ch10', 'gHO_sFM_cAll_d21_mHO4_ch19', 'gWA_sBM_cAll_d25_mWA1_ch04', 'gJB_sBM_cAll_d07_mJB2_ch10', 'gJB_sFM_cAll_d08_mJB5_ch13', 'gJS_sBM_cAll_d01_mJS3_ch07', 'gBR_sBM_cAll_d04_mBR3_ch05', 'gJB_sBM_cAll_d07_mJB3_ch05', 'gWA_sFM_cAll_d26_mWA2_ch10', 'gBR_sBM_cAll_d04_mBR2_ch06', 'gLO_sBM_cAll_d13_mLO0_ch08', 'gLO_sFM_cAll_d14_mLO1_ch09', 'gJS_sBM_cAll_d02_mJS5_ch06', 'gLO_sBM_cAll_d15_mLO5_ch06', 'gWA_sBM_cAll_d27_mWA5_ch01', 'gWA_sBM_cAll_d26_mWA1_ch05', 'gHO_sBM_cAll_d19_mHO3_ch02', 'gJS_sFM_cAll_d01_mJS2_ch03', 'gKR_sBM_cAll_d29_mKR1_ch07', 'gPO_sBM_cAll_d10_mPO0_ch09', 'gLO_sBM_cAll_d14_mLO4_ch06', 'gJB_sBM_cAll_d07_mJB0_ch06', 'gHO_sBM_cAll_d20_mHO5_ch04', 'gMH_sBM_cAll_d24_mMH5_ch04', 'gPO_sBM_cAll_d10_mPO0_ch03', 'gLH_sBM_cAll_d16_mLH0_ch06', 'gWA_sBM_cAll_d26_mWA5_ch06', 'gWA_sBM_cAll_d27_mWA4_ch09', 'gLH_sBM_cAll_d17_mLH4_ch04', 'gLH_sBM_cAll_d17_mLH0_ch08', 'gLO_sBM_cAll_d13_mLO0_ch09', 'gMH_sBM_cAll_d22_mMH3_ch08', 'gKR_sFM_cAll_d28_mKR5_ch06', 'gJS_sBM_cAll_d01_mJS3_ch04', 'gHO_sBM_cAll_d19_mHO3_ch09', 'gLO_sBM_cAll_d14_mLO0_ch06', 'gJS_sBM_cAll_d02_mJS1_ch06', 'gLH_sBM_cAll_d17_mLH1_ch05', 'gPO_sBM_cAll_d12_mPO5_ch08', 'gWA_sBM_cAll_d27_mWA3_ch06', 'gWA_sBM_cAll_d26_mWA4_ch10', 'gLH_sBM_cAll_d17_mLH5_ch03', 'gJB_sFM_cAll_d08_mJB3_ch11', 'gBR_sBM_cAll_d05_mBR1_ch01', 'gKR_sBM_cAll_d30_mKR2_ch06', 'gJS_sBM_cAll_d03_mJS4_ch10', 'gLO_sBM_cAll_d13_mLO2_ch02', 'gKR_sBM_cAll_d29_mKR4_ch02', 'gWA_sBM_cAll_d25_mWA2_ch05', 'gJB_sBM_cAll_d09_mJB5_ch04', 'gWA_sFM_cAll_d26_mWA0_ch08', 'gJS_sBM_cAll_d01_mJS0_ch05', 'gJS_sBM_cAll_d03_mJS5_ch02', 'gHO_sBM_cAll_d20_mHO4_ch09', 'gLH_sBM_cAll_d18_mLH5_ch02', 'gMH_sBM_cAll_d22_mMH0_ch04', 'gLH_sBM_cAll_d18_mLH3_ch10', 'gWA_sBM_cAll_d27_mWA2_ch03', 'gLO_sFM_cAll_d15_mLO3_ch18', 'gWA_sBM_cAll_d26_mWA4_ch05', 'gBR_sFM_cAll_d04_mBR4_ch05', 'gHO_sBM_cAll_d20_mHO5_ch10', 'gPO_sBM_cAll_d12_mPO3_ch10', 'gMH_sBM_cAll_d24_mMH3_ch02', 'gJB_sBM_cAll_d08_mJB0_ch05', 'gPO_sBM_cAll_d11_mPO5_ch02', 'gHO_sBM_cAll_d19_mHO2_ch02', 'gJS_sBM_cAll_d03_mJS2_ch01', 'gMH_sBM_cAll_d22_mMH1_ch03', 'gHO_sBM_cAll_d19_mHO1_ch02', 'gPO_sFM_cAll_d11_mPO2_ch10', 'gJS_sBM_cAll_d03_mJS4_ch06', 'gPO_sBM_cAll_d12_mPO4_ch08', 'gLH_sBM_cAll_d16_mLH0_ch05', 'gLH_sBM_cAll_d16_mLH2_ch07', 'gWA_sBM_cAll_d26_mWA1_ch07', 'gLH_sBM_cAll_d17_mLH1_ch08', 'gHO_sBM_cAll_d20_mHO0_ch07', 'gLO_sBM_cAll_d14_mLO0_ch10', 'gBR_sBM_cAll_d04_mBR1_ch09', 'gBR_sBM_cAll_d05_mBR4_ch08', 'gPO_sBM_cAll_d10_mPO0_ch07', 'gBR_sFM_cAll_d06_mBR3_ch17', 'gLO_sBM_cAll_d14_mLO0_ch04', 'gJB_sBM_cAll_d08_mJB5_ch02', 'gLH_sBM_cAll_d17_mLH0_ch07', 'gJB_sBM_cAll_d07_mJB1_ch02', 'gHO_sBM_cAll_d21_mHO3_ch03', 'gJB_sBM_cAll_d07_mJB0_ch04', 'gMH_sBM_cAll_d22_mMH0_ch05', 'gJS_sBM_cAll_d01_mJS2_ch05', 'gHO_sFM_cAll_d21_mHO3_ch18', 'gKR_sBM_cAll_d29_mKR1_ch05', 'gMH_sBM_cAll_d24_mMH3_ch03', 'gLO_sBM_cAll_d14_mLO1_ch04', 'gMH_sBM_cAll_d24_mMH2_ch08', 'gLO_sBM_cAll_d14_mLO0_ch02', 'gJB_sBM_cAll_d07_mJB1_ch03', 'gPO_sBM_cAll_d12_mPO5_ch09', 'gWA_sBM_cAll_d25_mWA2_ch04', 'gKR_sBM_cAll_d30_mKR5_ch06', 'gLO_sBM_cAll_d15_mLO5_ch09', 'gBR_sBM_cAll_d06_mBR2_ch04', 'gJS_sFM_cAll_d03_mJS2_ch03', 'gLO_sBM_cAll_d14_mLO5_ch01', 'gBR_sBM_cAll_d04_mBR0_ch03', 'gPO_sBM_cAll_d11_mPO4_ch06', 'gLH_sBM_cAll_d16_mLH2_ch03', 'gJB_sBM_cAll_d07_mJB0_ch07', 'gWA_sBM_cAll_d27_mWA3_ch01', 'gPO_sFM_cAll_d11_mPO5_ch13', 'gPO_sBM_cAll_d11_mPO0_ch01', 'gJB_sBM_cAll_d09_mJB2_ch06', 'gLO_sBM_cAll_d13_mLO0_ch05', 'gPO_sBM_cAll_d10_mPO0_ch08', 'gKR_sBM_cAll_d28_mKR1_ch01', 'gBR_sBM_cAll_d06_mBR4_ch01', 'gBR_sBM_cAll_d06_mBR4_ch06', 'gJB_sBM_cAll_d09_mJB3_ch08', 'gLO_sBM_cAll_d14_mLO4_ch04', 'gJB_sBM_cAll_d07_mJB1_ch01', 'gLH_sBM_cAll_d16_mLH2_ch05', 'gWA_sBM_cAll_d26_mWA5_ch03', 'gLH_sBM_cAll_d18_mLH2_ch01', 'gLO_sBM_cAll_d15_mLO4_ch05', 'gJB_sBM_cAll_d09_mJB2_ch03', 'gKR_sBM_cAll_d28_mKR3_ch09', 'gHO_sFM_cAll_d21_mHO3_ch21', 'gWA_sBM_cAll_d27_mWA4_ch07', 'gJB_sBM_cAll_d09_mJB3_ch02', 'gMH_sBM_cAll_d24_mMH5_ch05', 'gKR_sBM_cAll_d29_mKR4_ch09', 'gLO_sBM_cAll_d13_mLO1_ch06', 'gJS_sBM_cAll_d03_mJS5_ch04', 'gKR_sBM_cAll_d30_mKR4_ch08', 'gBR_sFM_cAll_d04_mBR2_ch03', 'gHO_sBM_cAll_d21_mHO4_ch07', 'gJS_sFM_cAll_d02_mJS4_ch09', 'gPO_sBM_cAll_d11_mPO4_ch05', 'gKR_sBM_cAll_d28_mKR0_ch03', 'gHO_sBM_cAll_d20_mHO0_ch06', 'gHO_sBM_cAll_d21_mHO4_ch10', 'gBR_sBM_cAll_d05_mBR5_ch04', 'gJS_sBM_cAll_d02_mJS1_ch10', 'gPO_sBM_cAll_d10_mPO3_ch05', 'gJB_sBM_cAll_d07_mJB3_ch06', 'gBR_sBM_cAll_d06_mBR4_ch04', 'gKR_sBM_cAll_d29_mKR0_ch04', 'gLO_sBM_cAll_d13_mLO1_ch02', 'gPO_sBM_cAll_d12_mPO5_ch03', 'gWA_sBM_cAll_d26_mWA4_ch06', 'gLH_sBM_cAll_d16_mLH0_ch08', 'gWA_sBM_cAll_d26_mWA5_ch08', 'gJS_sFM_cAll_d01_mJS1_ch07', 'gWA_sBM_cAll_d27_mWA2_ch05', 'gHO_sBM_cAll_d20_mHO1_ch09', 'gMH_sBM_cAll_d22_mMH1_ch10', 'gWA_sBM_cAll_d25_mWA1_ch08', 'gLO_sFM_cAll_d15_mLO4_ch19', 'gPO_sFM_cAll_d10_mPO1_ch02', 'gWA_sBM_cAll_d25_mWA2_ch09', 'gKR_sBM_cAll_d30_mKR4_ch03', 'gJB_sBM_cAll_d07_mJB0_ch05', 'gJS_sBM_cAll_d01_mJS0_ch03', 'gJS_sBM_cAll_d01_mJS0_ch01', 'gJB_sBM_cAll_d08_mJB0_ch03', 'gBR_sBM_cAll_d04_mBR2_ch03', 'gKR_sFM_cAll_d30_mKR1_ch16', 'gPO_sBM_cAll_d10_mPO1_ch03', 'gMH_sFM_cAll_d22_mMH1_ch07', 'gKR_sFM_cAll_d30_mKR2_ch17', 'gBR_sBM_cAll_d05_mBR5_ch06', 'gLH_sBM_cAll_d17_mLH0_ch01', 'gBR_sBM_cAll_d06_mBR3_ch06', 'gKR_sBM_cAll_d28_mKR0_ch10', 'gKR_sBM_cAll_d28_mKR1_ch02', 'gJB_sBM_cAll_d08_mJB1_ch06', 'gJS_sBM_cAll_d02_mJS1_ch07', 'gLO_sBM_cAll_d14_mLO5_ch06', 'gMH_sBM_cAll_d22_mMH0_ch02', 'gLH_sBM_cAll_d17_mLH1_ch02', 'gMH_sBM_cAll_d23_mMH4_ch06', 'gLO_sFM_cAll_d13_mLO1_ch02', 'gKR_sBM_cAll_d30_mKR5_ch01', 'gBR_sBM_cAll_d04_mBR0_ch02', 'gJB_sFM_cAll_d07_mJB2_ch03', 'gWA_sBM_cAll_d26_mWA0_ch01', 'gLO_sBM_cAll_d15_mLO5_ch01', 'gMH_sBM_cAll_d22_mMH2_ch01', 'gJB_sFM_cAll_d09_mJB1_ch16', 'gKR_sBM_cAll_d28_mKR3_ch01', 'gJB_sBM_cAll_d08_mJB4_ch01', 'gPO_sBM_cAll_d10_mPO0_ch02', 'gLO_sBM_cAll_d14_mLO1_ch05', 'gBR_sBM_cAll_d05_mBR1_ch06', 'gMH_sFM_cAll_d23_mMH4_ch12', 'gJS_sBM_cAll_d01_mJS2_ch03', 'gJB_sBM_cAll_d08_mJB0_ch06', 'gKR_sBM_cAll_d28_mKR0_ch08', 'gBR_sBM_cAll_d05_mBR5_ch03', 'gHO_sBM_cAll_d21_mHO2_ch02', 'gJS_sFM_cAll_d03_mJS4_ch12', 'gMH_sBM_cAll_d22_mMH1_ch02', 'gJS_sBM_cAll_d01_mJS1_ch05', 'gJB_sBM_cAll_d09_mJB2_ch08', 'gJS_sBM_cAll_d01_mJS2_ch01', 'gJS_sBM_cAll_d03_mJS5_ch01', 'gLO_sFM_cAll_d14_mLO4_ch12', 'gLH_sFM_cAll_d18_mLH2_ch17', 'gKR_sBM_cAll_d30_mKR4_ch09', 'gWA_sFM_cAll_d25_mWA1_ch02', 'gJB_sBM_cAll_d08_mJB1_ch08', 'gBR_sBM_cAll_d04_mBR0_ch05', 'gJS_sBM_cAll_d03_mJS3_ch07', 'gBR_sBM_cAll_d06_mBR3_ch01', 'gBR_sBM_cAll_d04_mBR3_ch10', 'gLH_sBM_cAll_d16_mLH2_ch09', 'gWA_sBM_cAll_d27_mWA3_ch04', 'gLO_sBM_cAll_d13_mLO1_ch04', 'gBR_sBM_cAll_d05_mBR4_ch05', 'gMH_sBM_cAll_d23_mMH0_ch08', 'gBR_sBM_cAll_d06_mBR2_ch03', 'gLH_sBM_cAll_d17_mLH1_ch07', 'gLO_sBM_cAll_d13_mLO2_ch06', 'gJS_sBM_cAll_d01_mJS1_ch03', 'gJB_sFM_cAll_d07_mJB3_ch04', 'gPO_sBM_cAll_d10_mPO1_ch01', 'gLH_sBM_cAll_d18_mLH4_ch05', 'gJS_sBM_cAll_d02_mJS5_ch09', 'gWA_sBM_cAll_d27_mWA2_ch04', 'gLH_sBM_cAll_d18_mLH4_ch01', 'gMH_sBM_cAll_d24_mMH4_ch10', 'gMH_sBM_cAll_d24_mMH4_ch07', 'gKR_sBM_cAll_d29_mKR0_ch07', 'gKR_sFM_cAll_d28_mKR4_ch05', 'gLH_sFM_cAll_d17_mLH4_ch12', 'gJS_sBM_cAll_d03_mJS3_ch03', 'gBR_sBM_cAll_d06_mBR4_ch05', 'gHO_sFM_cAll_d20_mHO4_ch12', 'gKR_sBM_cAll_d28_mKR3_ch07', 'gLH_sFM_cAll_d17_mLH0_ch14', 'gPO_sBM_cAll_d11_mPO0_ch08', 'gHO_sBM_cAll_d21_mHO5_ch10', 'gJB_sBM_cAll_d09_mJB2_ch04', 'gLO_sBM_cAll_d15_mLO5_ch05', 'gHO_sBM_cAll_d19_mHO1_ch08', 'gBR_sBM_cAll_d05_mBR4_ch09', 'gMH_sBM_cAll_d23_mMH4_ch07', 'gMH_sBM_cAll_d23_mMH4_ch01', 'gLH_sBM_cAll_d18_mLH5_ch09', 'gBR_sBM_cAll_d06_mBR5_ch10', 'gJS_sBM_cAll_d03_mJS4_ch03', 'gLH_sBM_cAll_d17_mLH4_ch01', 'gMH_sBM_cAll_d22_mMH3_ch03', 'gKR_sBM_cAll_d30_mKR4_ch01', 'gBR_sBM_cAll_d06_mBR2_ch06', 'gLO_sBM_cAll_d13_mLO2_ch04', 'gPO_sBM_cAll_d11_mPO5_ch05', 'gLH_sBM_cAll_d17_mLH0_ch03', 'gPO_sFM_cAll_d12_mPO0_ch15', 'gWA_sBM_cAll_d27_mWA3_ch07', 'gLO_sBM_cAll_d13_mLO3_ch03', 'gKR_sBM_cAll_d30_mKR2_ch03', 'gWA_sBM_cAll_d25_mWA1_ch06', 'gMH_sFM_cAll_d23_mMH1_ch09', 'gJB_sBM_cAll_d08_mJB5_ch09', 'gLO_sBM_cAll_d14_mLO0_ch07', 'gPO_sBM_cAll_d11_mPO0_ch07', 'gLO_sBM_cAll_d13_mLO2_ch08', 'gMH_sBM_cAll_d23_mMH4_ch05', 'gJB_sBM_cAll_d09_mJB3_ch05', 'gPO_sBM_cAll_d12_mPO5_ch02', 'gHO_sBM_cAll_d19_mHO2_ch09', 'gJB_sBM_cAll_d09_mJB3_ch09', 'gLO_sBM_cAll_d13_mLO0_ch02', 'gWA_sBM_cAll_d26_mWA0_ch04', 'gJS_sBM_cAll_d01_mJS0_ch10', 'gLH_sBM_cAll_d18_mLH4_ch06', 'gJB_sFM_cAll_d09_mJB4_ch19', 'gHO_sBM_cAll_d19_mHO0_ch06', 'gMH_sBM_cAll_d22_mMH3_ch07', 'gWA_sBM_cAll_d26_mWA1_ch10', 'gPO_sFM_cAll_d11_mPO3_ch11', 'gPO_sFM_cAll_d11_mPO0_ch08', 'gJS_sBM_cAll_d02_mJS1_ch09', 'gPO_sBM_cAll_d12_mPO5_ch10', 'gLO_sFM_cAll_d15_mLO2_ch17', 'gMH_sBM_cAll_d24_mMH5_ch07', 'gLH_sBM_cAll_d17_mLH0_ch02', 'gJS_sFM_cAll_d03_mJS3_ch04', 'gPO_sBM_cAll_d11_mPO5_ch08', 'gKR_sBM_cAll_d30_mKR3_ch07', 'gJS_sBM_cAll_d01_mJS1_ch08', 'gBR_sBM_cAll_d04_mBR1_ch02', 'gBR_sBM_cAll_d05_mBR1_ch03', 'gKR_sBM_cAll_d29_mKR1_ch09', 'gWA_sBM_cAll_d25_mWA3_ch07', 'gKR_sBM_cAll_d28_mKR3_ch03', 'gLH_sBM_cAll_d18_mLH3_ch06', 'gHO_sBM_cAll_d19_mHO2_ch06', 'gJS_sFM_cAll_d02_mJS3_ch04', 'gJS_sBM_cAll_d01_mJS2_ch06', 'gHO_sFM_cAll_d20_mHO3_ch11', 'gLH_sBM_cAll_d17_mLH5_ch01', 'gBR_sBM_cAll_d04_mBR2_ch05', 'gHO_sFM_cAll_d21_mHO5_ch20', 'gBR_sFM_cAll_d04_mBR0_ch01', 'gJS_sBM_cAll_d02_mJS0_ch01', 'gBR_sBM_cAll_d05_mBR0_ch01', 'gMH_sBM_cAll_d24_mMH5_ch03', 'gJS_sBM_cAll_d03_mJS2_ch09', 'gJB_sBM_cAll_d08_mJB0_ch09', 'gLO_sBM_cAll_d13_mLO1_ch08', 'gMH_sBM_cAll_d24_mMH3_ch08', 'gLO_sBM_cAll_d14_mLO5_ch09', 'gKR_sFM_cAll_d28_mKR3_ch07', 'gMH_sBM_cAll_d24_mMH3_ch05', 'gKR_sBM_cAll_d29_mKR4_ch08', 'gJB_sBM_cAll_d07_mJB1_ch10', 'gBR_sBM_cAll_d05_mBR5_ch02', 'gKR_sBM_cAll_d28_mKR1_ch10', 'gPO_sBM_cAll_d12_mPO3_ch06', 'gLH_sBM_cAll_d16_mLH3_ch06', 'gHO_sBM_cAll_d19_mHO0_ch03', 'gKR_sBM_cAll_d28_mKR2_ch07', 'gPO_sBM_cAll_d10_mPO3_ch07', 'gHO_sFM_cAll_d19_mHO4_ch05', 'gLH_sBM_cAll_d16_mLH1_ch02', 'gHO_sBM_cAll_d19_mHO1_ch07', 'gHO_sBM_cAll_d21_mHO4_ch04', 'gBR_sBM_cAll_d05_mBR4_ch06', 'gJS_sBM_cAll_d03_mJS2_ch05', 'gJS_sBM_cAll_d03_mJS2_ch08', 'gMH_sFM_cAll_d23_mMH0_ch08', 'gLH_sFM_cAll_d16_mLH3_ch04', 'gLO_sBM_cAll_d13_mLO3_ch02', 'gJS_sBM_cAll_d02_mJS4_ch03', 'gJS_sBM_cAll_d03_mJS4_ch08', 'gWA_sBM_cAll_d25_mWA0_ch10', 'gKR_sBM_cAll_d30_mKR2_ch04', 'gPO_sBM_cAll_d11_mPO0_ch06', 'gBR_sBM_cAll_d04_mBR2_ch07', 'gMH_sBM_cAll_d23_mMH1_ch01', 'gJB_sBM_cAll_d09_mJB5_ch01', 'gLH_sBM_cAll_d18_mLH3_ch07', 'gHO_sBM_cAll_d20_mHO0_ch09', 'gHO_sFM_cAll_d19_mHO2_ch07', 'gLO_sBM_cAll_d15_mLO4_ch09', 'gMH_sBM_cAll_d23_mMH1_ch02', 'gJB_sBM_cAll_d07_mJB2_ch06', 'gLH_sBM_cAll_d17_mLH0_ch10', 'gJS_sBM_cAll_d02_mJS5_ch07', 'gLH_sBM_cAll_d18_mLH3_ch04', 'gWA_sBM_cAll_d25_mWA3_ch02', 'gPO_sBM_cAll_d11_mPO0_ch05', 'gBR_sBM_cAll_d04_mBR3_ch02', 'gKR_sBM_cAll_d29_mKR5_ch06', 'gBR_sBM_cAll_d05_mBR4_ch04', 'gBR_sBM_cAll_d04_mBR2_ch02', 'gWA_sBM_cAll_d25_mWA1_ch03', 'gLO_sBM_cAll_d15_mLO2_ch06', 'gWA_sBM_cAll_d27_mWA3_ch02', 'gBR_sBM_cAll_d06_mBR2_ch10', 'gWA_sBM_cAll_d26_mWA5_ch01', 'gWA_sBM_cAll_d27_mWA3_ch08', 'gLH_sBM_cAll_d17_mLH1_ch04', 'gBR_sBM_cAll_d06_mBR3_ch07', 'gPO_sBM_cAll_d12_mPO3_ch01', 'gHO_sBM_cAll_d19_mHO3_ch08', 'gJS_sBM_cAll_d02_mJS1_ch04', 'gPO_sBM_cAll_d11_mPO5_ch01', 'gKR_sFM_cAll_d28_mKR2_ch03', 'gPO_sFM_cAll_d10_mPO5_ch06', 'gLO_sBM_cAll_d13_mLO3_ch10', 'gPO_sBM_cAll_d10_mPO1_ch05', 'gBR_sBM_cAll_d04_mBR3_ch09', 'gLH_sBM_cAll_d16_mLH2_ch06', 'gKR_sBM_cAll_d29_mKR1_ch08', 'gLO_sBM_cAll_d14_mLO1_ch03', 'gJB_sBM_cAll_d07_mJB2_ch07', 'gJB_sBM_cAll_d08_mJB0_ch04', 'gJB_sBM_cAll_d09_mJB3_ch06', 'gLH_sFM_cAll_d17_mLH0_ch08', 'gPO_sFM_cAll_d10_mPO4_ch05', 'gPO_sBM_cAll_d12_mPO5_ch06', 'gHO_sBM_cAll_d20_mHO5_ch09', 'gMH_sBM_cAll_d24_mMH2_ch03', 'gKR_sFM_cAll_d30_mKR0_ch15', 'gLO_sBM_cAll_d13_mLO2_ch09', 'gKR_sBM_cAll_d28_mKR3_ch04', 'gHO_sBM_cAll_d20_mHO4_ch05', 'gHO_sFM_cAll_d21_mHO2_ch17', 'gJB_sBM_cAll_d08_mJB1_ch01', 'gPO_sBM_cAll_d10_mPO1_ch10', 'gBR_sBM_cAll_d04_mBR2_ch09', 'gWA_sBM_cAll_d27_mWA5_ch09', 'gJS_sFM_cAll_d03_mJS0_ch01', 'gJB_sBM_cAll_d09_mJB5_ch10', 'gLH_sBM_cAll_d17_mLH0_ch06', 'gHO_sBM_cAll_d19_mHO0_ch05', 'gLH_sBM_cAll_d17_mLH4_ch09', 'gMH_sBM_cAll_d24_mMH2_ch04', 'gLO_sBM_cAll_d14_mLO4_ch09', 'gJB_sFM_cAll_d09_mJB2_ch17', 'gWA_sBM_cAll_d27_mWA3_ch05', 'gJS_sBM_cAll_d02_mJS0_ch10', 'gKR_sBM_cAll_d28_mKR0_ch04', 'gLO_sBM_cAll_d13_mLO3_ch07', 'gWA_sFM_cAll_d27_mWA0_ch15', 'gBR_sBM_cAll_d04_mBR3_ch08', 'gWA_sFM_cAll_d27_mWA2_ch21', 'gMH_sBM_cAll_d22_mMH0_ch07', 'gJB_sBM_cAll_d07_mJB3_ch09', 'gJS_sBM_cAll_d01_mJS1_ch09', 'gHO_sBM_cAll_d19_mHO3_ch10', 'gJB_sBM_cAll_d07_mJB1_ch05', 'gPO_sBM_cAll_d10_mPO2_ch05', 'gMH_sBM_cAll_d24_mMH2_ch07', 'gPO_sBM_cAll_d12_mPO3_ch07', 'gLH_sBM_cAll_d18_mLH3_ch01', 'gBR_sBM_cAll_d06_mBR4_ch08', 'gLH_sBM_cAll_d18_mLH4_ch10', 'gMH_sBM_cAll_d24_mMH5_ch10', 'gLH_sBM_cAll_d18_mLH5_ch07', 'gKR_sBM_cAll_d28_mKR0_ch05', 'gJS_sFM_cAll_d01_mJS3_ch04', 'gKR_sBM_cAll_d30_mKR4_ch04', 'gHO_sBM_cAll_d20_mHO4_ch03', 'gJB_sBM_cAll_d09_mJB2_ch01', 'gWA_sBM_cAll_d27_mWA2_ch01', 'gMH_sFM_cAll_d22_mMH5_ch06', 'gJS_sBM_cAll_d02_mJS4_ch08', 'gLH_sBM_cAll_d16_mLH0_ch02', 'gKR_sBM_cAll_d28_mKR1_ch07', 'gHO_sBM_cAll_d20_mHO4_ch08', 'gLO_sBM_cAll_d14_mLO4_ch05', 'gPO_sBM_cAll_d12_mPO5_ch07', 'gPO_sBM_cAll_d12_mPO4_ch03', 'gKR_sBM_cAll_d30_mKR5_ch09', 'gJB_sBM_cAll_d07_mJB3_ch01', 'gHO_sBM_cAll_d21_mHO5_ch02', 'gLH_sBM_cAll_d16_mLH2_ch08', 'gBR_sBM_cAll_d06_mBR5_ch05', 'gKR_sFM_cAll_d29_mKR5_ch13', 'gWA_sBM_cAll_d25_mWA3_ch03', 'gLH_sBM_cAll_d16_mLH3_ch01', 'gKR_sFM_cAll_d28_mKR0_ch01', 'gHO_sBM_cAll_d19_mHO2_ch07', 'gPO_sBM_cAll_d10_mPO2_ch10', 'gMH_sBM_cAll_d23_mMH1_ch04', 'gJB_sBM_cAll_d09_mJB5_ch05', 'gBR_sBM_cAll_d04_mBR1_ch04', 'gKR_sBM_cAll_d28_mKR1_ch08', 'gMH_sFM_cAll_d24_mMH0_ch15', 'gMH_sBM_cAll_d22_mMH1_ch05', 'gHO_sBM_cAll_d19_mHO3_ch01', 'gHO_sBM_cAll_d20_mHO0_ch10', 'gWA_sFM_cAll_d25_mWA3_ch04', 'gBR_sFM_cAll_d04_mBR1_ch02', 'gMH_sBM_cAll_d24_mMH4_ch04', 'gJB_sBM_cAll_d07_mJB2_ch01', 'gMH_sBM_cAll_d22_mMH2_ch10', 'gPO_sBM_cAll_d11_mPO4_ch02', 'gLO_sBM_cAll_d15_mLO2_ch03', 'gLO_sBM_cAll_d14_mLO0_ch01', 'gBR_sBM_cAll_d04_mBR3_ch01', 'gWA_sFM_cAll_d25_mWA5_ch07', 'gHO_sFM_cAll_d19_mHO3_ch04', 'gMH_sFM_cAll_d23_mMH3_ch11', 'gLH_sBM_cAll_d18_mLH3_ch08', 'gPO_sBM_cAll_d12_mPO3_ch05', 'gLH_sBM_cAll_d16_mLH1_ch07', 'gKR_sFM_cAll_d28_mKR1_ch02', 'gHO_sBM_cAll_d19_mHO3_ch04', 'gBR_sBM_cAll_d05_mBR4_ch02', 'gKR_sFM_cAll_d30_mKR3_ch21', 'gHO_sBM_cAll_d19_mHO1_ch05', 'gKR_sBM_cAll_d30_mKR5_ch10', 'gKR_sBM_cAll_d30_mKR3_ch04', 'gLO_sBM_cAll_d15_mLO2_ch09', 'gPO_sBM_cAll_d11_mPO5_ch10', 'gBR_sBM_cAll_d05_mBR1_ch09', 'gKR_sBM_cAll_d30_mKR3_ch09', 'gMH_sBM_cAll_d22_mMH1_ch01', 'gJS_sFM_cAll_d01_mJS5_ch06', 'gKR_sBM_cAll_d28_mKR0_ch07', 'gLH_sBM_cAll_d17_mLH5_ch10', 'gJB_sBM_cAll_d09_mJB5_ch07', 'gLO_sBM_cAll_d15_mLO3_ch03', 'gWA_sBM_cAll_d25_mWA1_ch10', 'gMH_sBM_cAll_d24_mMH4_ch08', 'gWA_sBM_cAll_d25_mWA2_ch10', 'gPO_sBM_cAll_d11_mPO1_ch04', 'gJS_sBM_cAll_d02_mJS0_ch07', 'gJS_sBM_cAll_d02_mJS0_ch06', 'gLH_sBM_cAll_d16_mLH2_ch04', 'gBR_sBM_cAll_d06_mBR4_ch02', 'gMH_sBM_cAll_d23_mMH5_ch08', 'gBR_sBM_cAll_d06_mBR3_ch08', 'gJS_sBM_cAll_d03_mJS5_ch06', 'gHO_sBM_cAll_d19_mHO1_ch01', 'gKR_sBM_cAll_d30_mKR5_ch04', 'gLH_sBM_cAll_d18_mLH4_ch09', 'gBR_sBM_cAll_d05_mBR0_ch03', 'gJB_sBM_cAll_d09_mJB4_ch05', 'gMH_sFM_cAll_d24_mMH2_ch17', 'gWA_sBM_cAll_d25_mWA3_ch09', 'gKR_sBM_cAll_d28_mKR1_ch06', 'gJB_sBM_cAll_d09_mJB4_ch08', 'gPO_sBM_cAll_d10_mPO1_ch09', 'gPO_sBM_cAll_d10_mPO0_ch06', 'gKR_sBM_cAll_d29_mKR1_ch03', 'gLH_sBM_cAll_d16_mLH3_ch07', 'gLO_sBM_cAll_d15_mLO2_ch02', 'gWA_sBM_cAll_d26_mWA0_ch06', 'gJS_sBM_cAll_d02_mJS5_ch10', 'gJB_sBM_cAll_d09_mJB4_ch02', 'gPO_sBM_cAll_d12_mPO4_ch02', 'gLH_sBM_cAll_d17_mLH5_ch02', 'gJS_sBM_cAll_d03_mJS2_ch02', 'gJS_sBM_cAll_d01_mJS0_ch08', 'gHO_sBM_cAll_d20_mHO5_ch03', 'gLH_sBM_cAll_d16_mLH0_ch03', 'gMH_sBM_cAll_d22_mMH2_ch06', 'gLH_sBM_cAll_d17_mLH1_ch03', 'gLO_sBM_cAll_d13_mLO1_ch07', 'gLH_sBM_cAll_d18_mLH5_ch08', 'gKR_sBM_cAll_d30_mKR4_ch10', 'gJS_sBM_cAll_d02_mJS0_ch08', 'gLH_sFM_cAll_d16_mLH2_ch03', 'gPO_sBM_cAll_d11_mPO5_ch06', 'gJS_sBM_cAll_d01_mJS2_ch09', 'gBR_sBM_cAll_d04_mBR2_ch01', 'gHO_sBM_cAll_d21_mHO3_ch02', 'gWA_sBM_cAll_d25_mWA0_ch05', 'gLH_sBM_cAll_d18_mLH4_ch02', 'gWA_sBM_cAll_d26_mWA0_ch10', 'gLO_sBM_cAll_d14_mLO4_ch03', 'gLO_sFM_cAll_d13_mLO2_ch03', 'gLH_sFM_cAll_d18_mLH3_ch18', 'gPO_sBM_cAll_d12_mPO4_ch09', 'gKR_sFM_cAll_d30_mKR5_ch20', 'gJB_sBM_cAll_d09_mJB5_ch06', 'gPO_sBM_cAll_d12_mPO2_ch04', 'gKR_sBM_cAll_d29_mKR1_ch06', 'gLO_sFM_cAll_d13_mLO4_ch07', 'gKR_sBM_cAll_d28_mKR1_ch09', 'gJS_sBM_cAll_d02_mJS1_ch05', 'gJS_sBM_cAll_d01_mJS3_ch03', 'gKR_sBM_cAll_d30_mKR4_ch05', 'gLH_sFM_cAll_d17_mLH3_ch11', 'gBR_sBM_cAll_d04_mBR0_ch06', 'gLO_sFM_cAll_d15_mLO0_ch15', 'gLO_sBM_cAll_d13_mLO2_ch07', 'gWA_sBM_cAll_d26_mWA4_ch09', 'gPO_sFM_cAll_d10_mPO2_ch03', 'gJS_sBM_cAll_d02_mJS5_ch03', 'gPO_sBM_cAll_d11_mPO5_ch07', 'gJS_sBM_cAll_d03_mJS3_ch10', 'gJB_sBM_cAll_d08_mJB4_ch02', 'gHO_sBM_cAll_d20_mHO4_ch04', 'gLO_sBM_cAll_d15_mLO3_ch09', 'gWA_sBM_cAll_d25_mWA2_ch06', 'gMH_sBM_cAll_d22_mMH1_ch09', 'gLO_sBM_cAll_d15_mLO2_ch04', 'gMH_sBM_cAll_d23_mMH4_ch03', 'gMH_sFM_cAll_d24_mMH1_ch16', 'gPO_sBM_cAll_d10_mPO3_ch03', 'gBR_sBM_cAll_d06_mBR5_ch04', 'gMH_sBM_cAll_d23_mMH5_ch03', 'gHO_sFM_cAll_d19_mHO1_ch02', 'gLO_sBM_cAll_d15_mLO4_ch07', 'gMH_sBM_cAll_d24_mMH4_ch01', 'gHO_sBM_cAll_d21_mHO2_ch04', 'gBR_sBM_cAll_d06_mBR2_ch02'])\n"
          ]
        }
      ]
    },
    {
      "cell_type": "code",
      "source": [
        "print(audio_dict.keys())"
      ],
      "metadata": {
        "colab": {
          "base_uri": "https://localhost:8080/"
        },
        "id": "pQDS4MlrPnqq",
        "outputId": "a174db41-6494-4029-8e73-c31814777754"
      },
      "execution_count": 5,
      "outputs": [
        {
          "output_type": "stream",
          "name": "stdout",
          "text": [
            "dict_keys(['mPO1', 'mLH3', 'mJB5', 'mJS2', 'mPO0', 'mMH4', 'mWA0', 'mJB0', 'mBR0', 'mLH0', 'mKR4', 'mJB4', 'mHO2', 'mMH1', 'mPO4', 'mJB3', 'mPO2', 'mLO4', 'mLH5', 'mHO0', 'mKR3', 'mKR2', 'mLH4', 'mLO3', 'mHO4', 'mJS0', 'mJS3', 'mMH5', 'mJS1', 'mLO1', 'mWA1', 'mBR2', 'mJB1', 'mHO5', 'mLO5', 'mMH2', 'mWA4', 'mPO5', 'mKR1', 'mWA2', 'mHO1', 'mBR5', 'mLH2', 'mBR4', 'mLO0', 'mPO3', 'mLH1', 'mBR3', 'mWA5', 'mJS4', 'mMH3', 'mBR1', 'mMH0', 'mJS5', 'mKR0', 'mLO2', 'mKR5', 'mWA3', 'mJB2', 'mHO3'])\n"
          ]
        }
      ]
    },
    {
      "cell_type": "code",
      "source": [
        "X = []\n",
        "y = []\n",
        "for ak in audio_dict.keys():\n",
        "  mks = [k for k in motion_dict.keys() if ak in k]\n",
        "  for mk in mks:\n",
        "    X.append(motion_dict[mk])\n",
        "    y.append(audio_dict[ak])"
      ],
      "metadata": {
        "id": "4_Bp-uCPRcHv"
      },
      "execution_count": 6,
      "outputs": []
    },
    {
      "cell_type": "code",
      "source": [
        "X = np.array(X)\n",
        "y = np.array(y)\n",
        "print(X.shape, y.shape)"
      ],
      "metadata": {
        "colab": {
          "base_uri": "https://localhost:8080/"
        },
        "id": "caquz5NASaui",
        "outputId": "50625923-8fb3-4303-c445-78b89ff6768e"
      },
      "execution_count": 7,
      "outputs": [
        {
          "output_type": "stream",
          "name": "stdout",
          "text": [
            "(1408, 426, 17, 3) (1408, 128, 1272)\n"
          ]
        }
      ]
    },
    {
      "cell_type": "code",
      "source": [
        "import tensorflow.keras as keras\n",
        "from tensorflow.keras import layers\n",
        "\n",
        "input_motion = keras.Input(shape=(426, 17, 3))\n",
        "\n",
        "x = layers.Conv2D(128, (3, 3), activation='relu', padding='same')(input_motion)\n",
        "x = layers.Conv2D(128, (3, 3), activation='relu', padding='same')(x)\n",
        "x = layers.MaxPooling2D((2, 2), padding='same')(x)\n",
        "x = layers.Conv2D(64, (3, 3), activation='relu', padding='same')(x)\n",
        "x = layers.Conv2D(64, (3, 3), activation='relu', padding='same')(x)\n",
        "x = layers.MaxPooling2D((2, 2), padding='same')(x)\n",
        "x = layers.Conv2D(64, (3, 3), activation='relu', padding='same')(x)\n",
        "x = layers.Conv2D(64, (3, 3), activation='relu', padding='same')(x)\n",
        "x = layers.MaxPooling2D((2, 2), padding='same')(x)\n",
        "x = layers.Conv2D(64, (3, 3), activation='relu', padding='same')(x)\n",
        "x = layers.Conv2D(64, (3, 3), activation='relu', padding='same')(x)\n",
        "x = layers.MaxPooling2D((2, 2), padding='same')(x)\n",
        "x = layers.Conv2D(64, (3, 3), activation='relu', padding='same')(x)\n",
        "x = layers.Conv2D(64, (3, 3), activation='relu', padding='same')(x)\n",
        "x = layers.MaxPooling2D((2, 2), padding='same')(x)\n",
        "x = layers.Conv2D(64, (3, 3), activation='relu', padding='same')(x)\n",
        "x = layers.Conv2D(64, (3, 3), activation='relu', padding='same')(x)\n",
        "x = layers.MaxPooling2D((2, 2), padding='same')(x)\n",
        "x = layers.Conv2D(64, (3, 3), activation='relu', padding='same')(x)\n",
        "x = layers.Conv2D(64, (3, 3), activation='relu', padding='same')(x)\n",
        "x = layers.MaxPooling2D((2, 2), padding='same')(x)\n",
        "x = layers.Conv2D(64, (3, 3), activation='relu', padding='same')(x)\n",
        "x = layers.Conv2D(64, (3, 3), activation='relu', padding='same')(x)\n",
        "x = layers.MaxPooling2D((2, 2), padding='same')(x)\n",
        "x = layers.Conv2D(64, (3, 3), activation='relu', padding='same')(x)\n",
        "x = layers.Conv2D(64, (3, 3), activation='relu', padding='same')(x)\n",
        "encoded = layers.MaxPooling2D((2, 2), padding='same')(x)\n",
        "\n",
        "z = layers.Flatten()(encoded)\n",
        "x = layers.Reshape((64, 1), input_shape=(64,))(z)\n",
        "x = layers.Conv1D(256, (3), activation='relu', padding='same')(x)\n",
        "x = layers.Dense(2048)(x)\n",
        "x = layers.Dense(256)(x)\n",
        "x = layers.Conv1D(256, (3), activation='relu', padding='same')(x)\n",
        "x = layers.Dense(2048)(x)\n",
        "x = layers.Dense(256)(x)\n",
        "x = layers.Conv1D(256, (3), activation='relu', padding='same')(x)\n",
        "x = layers.UpSampling1D((2))(x)\n",
        "decoded = layers.Conv1D(1272, (1), activation='linear', padding='same')(x)\n",
        "\n",
        "autoencoder = keras.Model(input_motion, decoded)\n",
        "autoencoder.compile(optimizer='adam', loss='mse')"
      ],
      "metadata": {
        "id": "2xGOEVPdxQAl"
      },
      "execution_count": 8,
      "outputs": []
    },
    {
      "cell_type": "code",
      "source": [
        "autoencoder.summary()"
      ],
      "metadata": {
        "colab": {
          "base_uri": "https://localhost:8080/"
        },
        "id": "oh-c4lrrK1_E",
        "outputId": "7674752f-6fbe-4529-89da-63b8b0920a72"
      },
      "execution_count": 9,
      "outputs": [
        {
          "output_type": "stream",
          "name": "stdout",
          "text": [
            "Model: \"model\"\n",
            "_________________________________________________________________\n",
            " Layer (type)                Output Shape              Param #   \n",
            "=================================================================\n",
            " input_1 (InputLayer)        [(None, 426, 17, 3)]      0         \n",
            "                                                                 \n",
            " conv2d (Conv2D)             (None, 426, 17, 128)      3584      \n",
            "                                                                 \n",
            " conv2d_1 (Conv2D)           (None, 426, 17, 128)      147584    \n",
            "                                                                 \n",
            " max_pooling2d (MaxPooling2D  (None, 213, 9, 128)      0         \n",
            " )                                                               \n",
            "                                                                 \n",
            " conv2d_2 (Conv2D)           (None, 213, 9, 64)        73792     \n",
            "                                                                 \n",
            " conv2d_3 (Conv2D)           (None, 213, 9, 64)        36928     \n",
            "                                                                 \n",
            " max_pooling2d_1 (MaxPooling  (None, 107, 5, 64)       0         \n",
            " 2D)                                                             \n",
            "                                                                 \n",
            " conv2d_4 (Conv2D)           (None, 107, 5, 64)        36928     \n",
            "                                                                 \n",
            " conv2d_5 (Conv2D)           (None, 107, 5, 64)        36928     \n",
            "                                                                 \n",
            " max_pooling2d_2 (MaxPooling  (None, 54, 3, 64)        0         \n",
            " 2D)                                                             \n",
            "                                                                 \n",
            " conv2d_6 (Conv2D)           (None, 54, 3, 64)         36928     \n",
            "                                                                 \n",
            " conv2d_7 (Conv2D)           (None, 54, 3, 64)         36928     \n",
            "                                                                 \n",
            " max_pooling2d_3 (MaxPooling  (None, 27, 2, 64)        0         \n",
            " 2D)                                                             \n",
            "                                                                 \n",
            " conv2d_8 (Conv2D)           (None, 27, 2, 64)         36928     \n",
            "                                                                 \n",
            " conv2d_9 (Conv2D)           (None, 27, 2, 64)         36928     \n",
            "                                                                 \n",
            " max_pooling2d_4 (MaxPooling  (None, 14, 1, 64)        0         \n",
            " 2D)                                                             \n",
            "                                                                 \n",
            " conv2d_10 (Conv2D)          (None, 14, 1, 64)         36928     \n",
            "                                                                 \n",
            " conv2d_11 (Conv2D)          (None, 14, 1, 64)         36928     \n",
            "                                                                 \n",
            " max_pooling2d_5 (MaxPooling  (None, 7, 1, 64)         0         \n",
            " 2D)                                                             \n",
            "                                                                 \n",
            " conv2d_12 (Conv2D)          (None, 7, 1, 64)          36928     \n",
            "                                                                 \n",
            " conv2d_13 (Conv2D)          (None, 7, 1, 64)          36928     \n",
            "                                                                 \n",
            " max_pooling2d_6 (MaxPooling  (None, 4, 1, 64)         0         \n",
            " 2D)                                                             \n",
            "                                                                 \n",
            " conv2d_14 (Conv2D)          (None, 4, 1, 64)          36928     \n",
            "                                                                 \n",
            " conv2d_15 (Conv2D)          (None, 4, 1, 64)          36928     \n",
            "                                                                 \n",
            " max_pooling2d_7 (MaxPooling  (None, 2, 1, 64)         0         \n",
            " 2D)                                                             \n",
            "                                                                 \n",
            " conv2d_16 (Conv2D)          (None, 2, 1, 64)          36928     \n",
            "                                                                 \n",
            " conv2d_17 (Conv2D)          (None, 2, 1, 64)          36928     \n",
            "                                                                 \n",
            " max_pooling2d_8 (MaxPooling  (None, 1, 1, 64)         0         \n",
            " 2D)                                                             \n",
            "                                                                 \n",
            " flatten (Flatten)           (None, 64)                0         \n",
            "                                                                 \n",
            " reshape (Reshape)           (None, 64, 1)             0         \n",
            "                                                                 \n",
            " conv1d (Conv1D)             (None, 64, 256)           1024      \n",
            "                                                                 \n",
            " dense (Dense)               (None, 64, 2048)          526336    \n",
            "                                                                 \n",
            " dense_1 (Dense)             (None, 64, 256)           524544    \n",
            "                                                                 \n",
            " conv1d_1 (Conv1D)           (None, 64, 256)           196864    \n",
            "                                                                 \n",
            " dense_2 (Dense)             (None, 64, 2048)          526336    \n",
            "                                                                 \n",
            " dense_3 (Dense)             (None, 64, 256)           524544    \n",
            "                                                                 \n",
            " conv1d_2 (Conv1D)           (None, 64, 256)           196864    \n",
            "                                                                 \n",
            " up_sampling1d (UpSampling1D  (None, 128, 256)         0         \n",
            " )                                                               \n",
            "                                                                 \n",
            " conv1d_3 (Conv1D)           (None, 128, 1272)         326904    \n",
            "                                                                 \n",
            "=================================================================\n",
            "Total params: 3,602,296\n",
            "Trainable params: 3,602,296\n",
            "Non-trainable params: 0\n",
            "_________________________________________________________________\n"
          ]
        }
      ]
    },
    {
      "cell_type": "code",
      "source": [
        "import tensorflow as tf\n",
        "tf.config.run_functions_eagerly(True)"
      ],
      "metadata": {
        "id": "673JYTJSPlmu"
      },
      "execution_count": 10,
      "outputs": []
    },
    {
      "cell_type": "code",
      "source": [
        "autoencoder.fit(X, y, 64, epochs=100)"
      ],
      "metadata": {
        "colab": {
          "base_uri": "https://localhost:8080/"
        },
        "id": "45Y4F8_dN60h",
        "outputId": "ae21b476-854d-4e06-e1b2-d150aaa90c29"
      },
      "execution_count": null,
      "outputs": [
        {
          "metadata": {
            "tags": null
          },
          "name": "stderr",
          "output_type": "stream",
          "text": [
            "/usr/local/lib/python3.8/dist-packages/tensorflow/python/data/ops/structured_function.py:264: UserWarning: Even though the `tf.config.experimental_run_functions_eagerly` option is set, this option does not apply to tf.data functions. To force eager execution of tf.data functions, please use `tf.data.experimental.enable_debug_mode()`.\n",
            "  warnings.warn(\n"
          ]
        },
        {
          "output_type": "stream",
          "name": "stdout",
          "text": [
            "Epoch 1/100\n",
            "22/22 [==============================] - 9s 182ms/step - loss: 48830.7656\n",
            "Epoch 2/100\n",
            "22/22 [==============================] - 4s 190ms/step - loss: 49908.6719\n",
            "Epoch 3/100\n",
            "22/22 [==============================] - 4s 183ms/step - loss: 41115.6562\n",
            "Epoch 4/100\n",
            "22/22 [==============================] - 4s 182ms/step - loss: 39361.2773\n",
            "Epoch 5/100\n",
            "22/22 [==============================] - 4s 181ms/step - loss: 39386.3828\n",
            "Epoch 6/100\n",
            "22/22 [==============================] - 4s 182ms/step - loss: 39300.5586\n",
            "Epoch 7/100\n",
            "22/22 [==============================] - 4s 185ms/step - loss: 39246.4805\n",
            "Epoch 8/100\n",
            "22/22 [==============================] - 4s 183ms/step - loss: 39232.5820\n",
            "Epoch 9/100\n",
            "22/22 [==============================] - 4s 183ms/step - loss: 39293.8125\n",
            "Epoch 10/100\n",
            "22/22 [==============================] - 4s 183ms/step - loss: 39499.2266\n",
            "Epoch 11/100\n",
            "22/22 [==============================] - 4s 184ms/step - loss: 39453.1523\n",
            "Epoch 12/100\n",
            "22/22 [==============================] - 4s 184ms/step - loss: 39237.0156\n",
            "Epoch 13/100\n",
            "22/22 [==============================] - 4s 185ms/step - loss: 39264.4023\n",
            "Epoch 14/100\n",
            "22/22 [==============================] - 4s 184ms/step - loss: 39081.3789\n",
            "Epoch 15/100\n",
            "22/22 [==============================] - 4s 185ms/step - loss: 39116.1289\n",
            "Epoch 16/100\n",
            "22/22 [==============================] - 4s 187ms/step - loss: 39213.5195\n",
            "Epoch 17/100\n",
            "22/22 [==============================] - 4s 185ms/step - loss: 39096.0703\n",
            "Epoch 18/100\n",
            "22/22 [==============================] - 4s 186ms/step - loss: 39158.2461\n",
            "Epoch 19/100\n",
            "22/22 [==============================] - 4s 184ms/step - loss: 39227.4844\n",
            "Epoch 20/100\n",
            "22/22 [==============================] - 4s 185ms/step - loss: 39151.1836\n",
            "Epoch 21/100\n",
            "22/22 [==============================] - 4s 186ms/step - loss: 39154.2539\n",
            "Epoch 22/100\n",
            "22/22 [==============================] - 4s 185ms/step - loss: 39117.7383\n",
            "Epoch 23/100\n",
            "22/22 [==============================] - 4s 185ms/step - loss: 39092.0664\n",
            "Epoch 24/100\n",
            "22/22 [==============================] - 4s 186ms/step - loss: 39091.3164\n",
            "Epoch 25/100\n",
            "22/22 [==============================] - 4s 185ms/step - loss: 39078.6523\n",
            "Epoch 26/100\n",
            "22/22 [==============================] - 4s 184ms/step - loss: 39087.2891\n",
            "Epoch 27/100\n",
            "22/22 [==============================] - 4s 184ms/step - loss: 39095.7305\n",
            "Epoch 28/100\n",
            "22/22 [==============================] - 4s 185ms/step - loss: 39122.8164\n",
            "Epoch 29/100\n",
            "22/22 [==============================] - 4s 184ms/step - loss: 39088.6094\n",
            "Epoch 30/100\n",
            "22/22 [==============================] - 4s 183ms/step - loss: 39067.9453\n",
            "Epoch 31/100\n",
            "22/22 [==============================] - 4s 185ms/step - loss: 39100.7383\n",
            "Epoch 32/100\n",
            "22/22 [==============================] - 4s 184ms/step - loss: 39205.7891\n",
            "Epoch 33/100\n",
            "22/22 [==============================] - 4s 185ms/step - loss: 39179.3086\n",
            "Epoch 34/100\n",
            "22/22 [==============================] - 4s 186ms/step - loss: 39113.1367\n",
            "Epoch 35/100\n",
            "22/22 [==============================] - 4s 185ms/step - loss: 39241.0977\n",
            "Epoch 36/100\n",
            "22/22 [==============================] - 4s 185ms/step - loss: 39092.0664\n",
            "Epoch 37/100\n",
            "22/22 [==============================] - 4s 185ms/step - loss: 39147.5469\n",
            "Epoch 38/100\n",
            "22/22 [==============================] - 4s 185ms/step - loss: 39150.1406\n",
            "Epoch 39/100\n",
            "22/22 [==============================] - 4s 185ms/step - loss: 39126.7031\n",
            "Epoch 40/100\n",
            "22/22 [==============================] - 4s 184ms/step - loss: 39165.3320\n",
            "Epoch 41/100\n",
            "22/22 [==============================] - 4s 189ms/step - loss: 39252.4102\n",
            "Epoch 42/100\n",
            "22/22 [==============================] - 4s 184ms/step - loss: 39280.2656\n",
            "Epoch 43/100\n",
            "22/22 [==============================] - 4s 183ms/step - loss: 39395.2734\n",
            "Epoch 44/100\n",
            "22/22 [==============================] - 4s 184ms/step - loss: 39177.1719\n",
            "Epoch 45/100\n",
            "22/22 [==============================] - 4s 184ms/step - loss: 39295.4688\n",
            "Epoch 46/100\n",
            "20/22 [==========================>...] - ETA: 0s - loss: 39066.6250"
          ]
        }
      ]
    },
    {
      "cell_type": "code",
      "source": [
        "pred_X = np.array([X[0]])\n",
        "# print(pred_X.shape)\n",
        "out_spec = autoencoder(pred_X)\n"
      ],
      "metadata": {
        "id": "Lzo07n2ZzpCj"
      },
      "execution_count": null,
      "outputs": []
    },
    {
      "cell_type": "code",
      "source": [
        "print(out_spec.shape)\n",
        "out_spec = np.array(out_spec, dtype=\"float32\")\n"
      ],
      "metadata": {
        "id": "njCEfPDE0f_I"
      },
      "execution_count": null,
      "outputs": []
    },
    {
      "cell_type": "code",
      "source": [
        "out_spec = out_spec.reshape(128, 1272)"
      ],
      "metadata": {
        "id": "j5JiOuMD0-lb"
      },
      "execution_count": null,
      "outputs": []
    },
    {
      "cell_type": "code",
      "source": [
        "res = librosa.feature.inverse.mel_to_audio(out_spec, \n",
        "                                           sr=my_sample_rate, \n",
        "                                           n_fft=2048, \n",
        "                                           hop_length=512, \n",
        "                                           win_length=None, \n",
        "                                           window='hann', \n",
        "                                           center=True, \n",
        "                                           pad_mode='reflect', \n",
        "                                           power=2.0, \n",
        "                                           n_iter=32)\n",
        "\n",
        "import soundfile as sf\n",
        "sf.write(\"test1.wav\", res, my_sample_rate)"
      ],
      "metadata": {
        "id": "tT5bPm0aqwgy"
      },
      "execution_count": null,
      "outputs": []
    },
    {
      "cell_type": "code",
      "source": [],
      "metadata": {
        "id": "lR2q0vNP000i"
      },
      "execution_count": null,
      "outputs": []
    }
  ],
  "metadata": {
    "colab": {
      "provenance": [],
      "authorship_tag": "ABX9TyOLJqROd6RYHWRtLID3CEfW",
      "include_colab_link": true
    },
    "kernelspec": {
      "display_name": "Python 3",
      "name": "python3"
    },
    "language_info": {
      "name": "python"
    },
    "accelerator": "GPU",
    "gpuClass": "standard"
  },
  "nbformat": 4,
  "nbformat_minor": 0
}